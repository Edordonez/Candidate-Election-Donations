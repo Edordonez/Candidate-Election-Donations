{
 "cells": [
  {
   "cell_type": "code",
   "execution_count": 1,
   "id": "65969f94-4e8b-4511-81ab-2f4b073fa77c",
   "metadata": {},
   "outputs": [
    {
     "name": "stdout",
     "output_type": "stream",
     "text": [
      "createdb: error: database creation failed: ERROR:  database \"edassignment3\" already exists\n"
     ]
    }
   ],
   "source": [
    "!createdb -U student edassignment3"
   ]
  },
  {
   "cell_type": "code",
   "execution_count": 1,
   "id": "819e9639-974e-46aa-bf29-db0050561fa0",
   "metadata": {},
   "outputs": [
    {
     "name": "stderr",
     "output_type": "stream",
     "text": [
      "/home/ubuntu/.python3-venv/lib/python3.12/site-packages/pandas/core/arrays/masked.py:60: UserWarning: Pandas requires version '1.3.6' or newer of 'bottleneck' (version '1.3.5' currently installed).\n",
      "  from pandas.core import (\n"
     ]
    }
   ],
   "source": [
    "%load_ext sql"
   ]
  },
  {
   "cell_type": "code",
   "execution_count": 2,
   "id": "bf337f77-34a7-4cf4-ab85-f8216de08efc",
   "metadata": {},
   "outputs": [
    {
     "data": {
      "text/html": [
       "<span style=\"None\">Connecting to &#x27;postgresql://student@/edassignment3&#x27;</span>"
      ],
      "text/plain": [
       "Connecting to 'postgresql://student@/edassignment3'"
      ]
     },
     "metadata": {},
     "output_type": "display_data"
    }
   ],
   "source": [
    "%sql postgresql://student@/edassignment3"
   ]
  },
  {
   "cell_type": "markdown",
   "id": "00960823-2dd7-4b85-a6ff-042c20999531",
   "metadata": {},
   "source": [
    "# Problem 1"
   ]
  },
  {
   "cell_type": "code",
   "execution_count": 3,
   "id": "c1510b6d-5237-489d-bfc7-caee77a99758",
   "metadata": {},
   "outputs": [
    {
     "data": {
      "text/html": [
       "<span style=\"None\">Running query in &#x27;postgresql://student@/edassignment3&#x27;</span>"
      ],
      "text/plain": [
       "Running query in 'postgresql://student@/edassignment3'"
      ]
     },
     "metadata": {},
     "output_type": "display_data"
    },
    {
     "data": {
      "text/html": [
       "<table>\n",
       "    <thead>\n",
       "        <tr>\n",
       "        </tr>\n",
       "    </thead>\n",
       "    <tbody>\n",
       "    </tbody>\n",
       "</table>"
      ],
      "text/plain": [
       "++\n",
       "||\n",
       "++\n",
       "++"
      ]
     },
     "execution_count": 3,
     "metadata": {},
     "output_type": "execute_result"
    }
   ],
   "source": [
    "%%sql\n",
    "--creating table for candidate_master              \n",
    "Drop Table If EXISTS Candidate_Master Cascade;  --- dropping table candidate master just in case\n",
    "CREATE TABLE Candidate_Master (   ---adding the columns for the data\n",
    "\tCAND_ID VARCHAR(9) NOT NULL, --- NOT NULL makes it so the column has no nulls under any circumstances\n",
    "\tCAND_NAME VARCHAR(200) DEFAULT NULL, \n",
    "\tCAND_PTY_AFFILIATION VARCHAR(3) DEFAULT 'UNK', --- DEFAULT 'UNK' sets the null as 'UNK', when it would previously be null. we try to avoid nulls so any column that can get a non-null default is best\n",
    "\tCAND_ELECTION_YR NUMERIC(4) DEFAULT '0000', \n",
    "\tCAND_OFFICE_ST VARCHAR(2) DEFAULT 'XX',\n",
    "\tCAND_OFFICE VARCHAR(1) DEFAULT 'U',\n",
    "\tCAND_OFFICE_DISTRICT VARCHAR(2) DEFAULT 'XX',\n",
    "\tCAND_ICI VARCHAR(1) DEFAULT 'U',\n",
    "\tCAND_STATUS VARCHAR(1) DEFAULT 'U',\n",
    "\tCAND_PCC VARCHAR(9) DEFAULT 'X99999999',\n",
    "\tCAND_ST1 VARCHAR(34) DEFAULT '',\n",
    "\tCAND_ST2 VARCHAR(34) DEFAULT NULL,\n",
    "\tCAND_CITY VARCHAR(30) DEFAULT 'UNKNOWN',\n",
    "\tCAND_ST VARCHAR(2) DEFAULT 'XX',\t\n",
    "\tCAND_ZIP VARCHAR(9) DEFAULT '999999999',\n",
    "\tPRIMARY KEY (CAND_ID)  --- adding primary key associated with the table \n",
    "\t\n",
    ");"
   ]
  },
  {
   "cell_type": "code",
   "execution_count": 4,
   "id": "086cde43-6a1e-4358-8a80-95df0c12228c",
   "metadata": {},
   "outputs": [
    {
     "data": {
      "text/html": [
       "<span style=\"None\">Running query in &#x27;postgresql://student@/edassignment3&#x27;</span>"
      ],
      "text/plain": [
       "Running query in 'postgresql://student@/edassignment3'"
      ]
     },
     "metadata": {},
     "output_type": "display_data"
    },
    {
     "data": {
      "text/html": [
       "<table>\n",
       "    <thead>\n",
       "        <tr>\n",
       "        </tr>\n",
       "    </thead>\n",
       "    <tbody>\n",
       "    </tbody>\n",
       "</table>"
      ],
      "text/plain": [
       "++\n",
       "||\n",
       "++\n",
       "++"
      ]
     },
     "execution_count": 4,
     "metadata": {},
     "output_type": "execute_result"
    }
   ],
   "source": [
    "%%sql \n",
    "--- this function sets a comment on the table, in this case, it gives the table its description\n",
    "COMMENT ON TABLE Candidate_Master IS\n",
    "'Candidate Master: contains one record for each candidate who has either registered with the Federal Election Commission or appeared on a ballot list prepared by a state elections office';"
   ]
  },
  {
   "cell_type": "code",
   "execution_count": 5,
   "id": "b1c39dd6-9a0f-4aa8-aa21-b0b708607e4a",
   "metadata": {},
   "outputs": [
    {
     "data": {
      "text/html": [
       "<span style=\"None\">Running query in &#x27;postgresql://student@/edassignment3&#x27;</span>"
      ],
      "text/plain": [
       "Running query in 'postgresql://student@/edassignment3'"
      ]
     },
     "metadata": {},
     "output_type": "display_data"
    },
    {
     "data": {
      "text/html": [
       "<table>\n",
       "    <thead>\n",
       "        <tr>\n",
       "        </tr>\n",
       "    </thead>\n",
       "    <tbody>\n",
       "    </tbody>\n",
       "</table>"
      ],
      "text/plain": [
       "++\n",
       "||\n",
       "++\n",
       "++"
      ]
     },
     "execution_count": 5,
     "metadata": {},
     "output_type": "execute_result"
    }
   ],
   "source": [
    "%%sql \n",
    "--- this function sets a comment on each column. in this case, it gives the column its description\n",
    "COMMENT ON COLUMN Candidate_Master.CAND_ID IS 'Candidate Identification: A 9-character alpha-numeric code assigned to a candidate by the Federal Election Commission. The candidate ID for a specific candidate remains the same across election cycles as long as the candidate is running for the same office.';\n",
    "COMMENT ON COLUMN Candidate_Master.CAND_NAME IS 'Candidate Name: Name of the Candidate.';\n",
    "COMMENT ON COLUMN Candidate_Master.CAND_PTY_AFFILIATION IS 'Party Affiliation: The political party affiliation reported by the candidate.';\n",
    "COMMENT ON COLUMN Candidate_Master.CAND_ELECTION_YR IS 'Year of election: Candidates election year from a Statement of Candidacy or state ballot list';\n",
    "COMMENT ON COLUMN Candidate_Master.CAND_OFFICE_ST IS 'Candidate state: State of the candidates office, House = state of race, President = US, Senate = state of race';\n",
    "COMMENT ON COLUMN Candidate_Master.CAND_OFFICE IS 'Candidate Office: H = House, P = President, S = Senate';\n",
    "COMMENT ON COLUMN Candidate_Master.CAND_OFFICE_DISTRICT IS 'Candidate District: Congressional district number, Congressional at large = 00, Senate = 00, Presidential = 00';\n",
    "COMMENT ON COLUMN Candidate_Master.CAND_ICI IS 'Incumbent challenger status: C = Challenger, I = Incumbent, O = Open Seat is used to indicate an open seat; open seats are defined as seats where the incumbent never sought re-election';\n",
    "COMMENT ON COLUMN Candidate_Master.CAND_STATUS IS 'Candidate Status: C = Statutory Candidate, F = Statutory candidate for future election, N = Not yet a statutory candidate, P = Statutory candidate in prior cycle';\n",
    "COMMENT ON COLUMN Candidate_Master.CAND_PCC IS 'Principal campaign committee: The ID assigned by the Federal Election Commission to the candidates principal campaign committee for a given election cycle.';\n",
    "COMMENT ON COLUMN Candidate_Master.CAND_ST1 IS 'Street Mailing address: Mailing address - street';\n",
    "COMMENT ON COLUMN Candidate_Master.CAND_ST2 IS 'Street Mailing address line 2: Mailing address - street2';\n",
    "COMMENT ON COLUMN Candidate_Master.CAND_CITY IS 'City Mailing address: Mailing address - city';\n",
    "COMMENT ON COLUMN Candidate_Master.CAND_ST IS 'State Mailing address: Mailing address - state';\n",
    "COMMENT ON COLUMN Candidate_Master.CAND_ZIP IS 'Zip Code Mailing address: Mailing address - ZIP';"
   ]
  },
  {
   "cell_type": "code",
   "execution_count": 6,
   "id": "768eaf14-da45-4601-8754-c431e2388824",
   "metadata": {},
   "outputs": [
    {
     "data": {
      "text/html": [
       "<span style=\"None\">Running query in &#x27;postgresql://student@/edassignment3&#x27;</span>"
      ],
      "text/plain": [
       "Running query in 'postgresql://student@/edassignment3'"
      ]
     },
     "metadata": {},
     "output_type": "display_data"
    },
    {
     "data": {
      "text/html": [
       "<table>\n",
       "    <thead>\n",
       "        <tr>\n",
       "            <th>cand_id</th>\n",
       "            <th>cand_name</th>\n",
       "            <th>cand_pty_affiliation</th>\n",
       "            <th>cand_election_yr</th>\n",
       "            <th>cand_office_st</th>\n",
       "            <th>cand_office</th>\n",
       "            <th>cand_office_district</th>\n",
       "            <th>cand_ici</th>\n",
       "            <th>cand_status</th>\n",
       "            <th>cand_pcc</th>\n",
       "            <th>cand_st1</th>\n",
       "            <th>cand_st2</th>\n",
       "            <th>cand_city</th>\n",
       "            <th>cand_st</th>\n",
       "            <th>cand_zip</th>\n",
       "        </tr>\n",
       "    </thead>\n",
       "    <tbody>\n",
       "    </tbody>\n",
       "</table>"
      ],
      "text/plain": [
       "+---------+-----------+----------------------+------------------+----------------+-------------+----------------------+----------+-------------+----------+----------+----------+-----------+---------+----------+\n",
       "| cand_id | cand_name | cand_pty_affiliation | cand_election_yr | cand_office_st | cand_office | cand_office_district | cand_ici | cand_status | cand_pcc | cand_st1 | cand_st2 | cand_city | cand_st | cand_zip |\n",
       "+---------+-----------+----------------------+------------------+----------------+-------------+----------------------+----------+-------------+----------+----------+----------+-----------+---------+----------+\n",
       "+---------+-----------+----------------------+------------------+----------------+-------------+----------------------+----------+-------------+----------+----------+----------+-----------+---------+----------+"
      ]
     },
     "execution_count": 6,
     "metadata": {},
     "output_type": "execute_result"
    }
   ],
   "source": [
    "%%sql \n",
    "--- Quick function just to check all of the columns in the table\n",
    "SELECT * FROM candidate_master;"
   ]
  },
  {
   "cell_type": "code",
   "execution_count": 7,
   "id": "f7c3c1be-f32f-4530-aef5-638bacf277bc",
   "metadata": {},
   "outputs": [
    {
     "data": {
      "text/html": [
       "<span style=\"None\">Running query in &#x27;postgresql://student@/edassignment3&#x27;</span>"
      ],
      "text/plain": [
       "Running query in 'postgresql://student@/edassignment3'"
      ]
     },
     "metadata": {},
     "output_type": "display_data"
    },
    {
     "data": {
      "text/html": [
       "<table>\n",
       "    <thead>\n",
       "        <tr>\n",
       "        </tr>\n",
       "    </thead>\n",
       "    <tbody>\n",
       "    </tbody>\n",
       "</table>"
      ],
      "text/plain": [
       "++\n",
       "||\n",
       "++\n",
       "++"
      ]
     },
     "execution_count": 7,
     "metadata": {},
     "output_type": "execute_result"
    }
   ],
   "source": [
    "%%sql \n",
    "--Creating table for commitee_master               \n",
    "DROP TABLE IF EXISTS commitee_master CASCADE; ---- dropping table if exsists\n",
    "CREATE TABLE commitee_master (  --- creating table for commitee_master\n",
    "\tCMTE_ID VARCHAR(9) NOT NULL,\n",
    "\tCMTE_NM VARCHAR(200) DEFAULT NULL,\n",
    "\tTRES_NM VARCHAR(90) DEFAULT NULL,\n",
    "\tCMTE_ST1 VARCHAR(34) DEFAULT '',\n",
    "\tCMTE_ST2 VARCHAR(34) DEFAULT NULL,\n",
    "\tCMTE_CITY VARCHAR(30) DEFAULT 'UNKNOWN',\n",
    "\tCMTE_ST VARCHAR(2) DEFAULT 'XX',\n",
    "\tCMTE_ZIP VARCHAR(9) DEFAULT '999999999',\n",
    "\tCMTE_DSGN VARCHAR(1) DEFAULT 'X',\n",
    "\tCMTE_TP VARCHAR(1) DEFAULT NULL, --- Null is necessary because X and U are taken for a committee type and using another letter would be confusing\n",
    "\tCMTE_PTY_AFFILIATION VARCHAR(3) DEFAULT 'UNK', --- UNK is the preset code for a party code that is not known\n",
    "\tCMTE_FILING_FREQ VARCHAR(1) DEFAULT 'X',\n",
    "\tORG_TP VARCHAR(1) DEFAULT 'X',\n",
    "\tCONNECTED_ORG_NM VARCHAR(200) DEFAULT'',\n",
    "\tCAND_ID VARCHAR(9) DEFAULT NULL,\n",
    "\tPRIMARY KEY (CMTE_ID) ---creating primary key for commitee_master\n",
    ");\n"
   ]
  },
  {
   "cell_type": "code",
   "execution_count": 8,
   "id": "9e64ac96-262c-400a-8b9b-10ca09aee6c0",
   "metadata": {},
   "outputs": [
    {
     "data": {
      "text/html": [
       "<span style=\"None\">Running query in &#x27;postgresql://student@/edassignment3&#x27;</span>"
      ],
      "text/plain": [
       "Running query in 'postgresql://student@/edassignment3'"
      ]
     },
     "metadata": {},
     "output_type": "display_data"
    },
    {
     "data": {
      "text/html": [
       "<table>\n",
       "    <thead>\n",
       "        <tr>\n",
       "        </tr>\n",
       "    </thead>\n",
       "    <tbody>\n",
       "    </tbody>\n",
       "</table>"
      ],
      "text/plain": [
       "++\n",
       "||\n",
       "++\n",
       "++"
      ]
     },
     "execution_count": 8,
     "metadata": {},
     "output_type": "execute_result"
    }
   ],
   "source": [
    "%%sql \n",
    "--- this function sets a comment on the table, in this case, it gives the table its description\n",
    "COMMENT ON TABLE commitee_master IS\n",
    "'Committee Master: contains one record for each committee registered with the Federal Election Commission. This includes federal political action committees and party committees, campaign committees for presidential, house and senate candidates, as well as groups or organizations who are spending money for or against candidates for federal office.';"
   ]
  },
  {
   "cell_type": "code",
   "execution_count": 9,
   "id": "0aaf1381-f395-4c94-b27c-a650d8d69650",
   "metadata": {},
   "outputs": [
    {
     "data": {
      "text/html": [
       "<span style=\"None\">Running query in &#x27;postgresql://student@/edassignment3&#x27;</span>"
      ],
      "text/plain": [
       "Running query in 'postgresql://student@/edassignment3'"
      ]
     },
     "metadata": {},
     "output_type": "display_data"
    },
    {
     "data": {
      "text/html": [
       "<table>\n",
       "    <thead>\n",
       "        <tr>\n",
       "        </tr>\n",
       "    </thead>\n",
       "    <tbody>\n",
       "    </tbody>\n",
       "</table>"
      ],
      "text/plain": [
       "++\n",
       "||\n",
       "++\n",
       "++"
      ]
     },
     "execution_count": 9,
     "metadata": {},
     "output_type": "execute_result"
    }
   ],
   "source": [
    "%%sql \n",
    "--- this function sets a comment on each column. in this case, it gives the column its description\n",
    "COMMENT ON COLUMN commitee_master.CMTE_ID IS 'Committee Identification: A 9-character alpha-numeric code assigned to a committee by the Federal Election Commission. Committee IDs are unique and an ID for a specific committee always remains the same.';\n",
    "COMMENT ON COLUMN commitee_master.CMTE_NM IS 'Committee Name: Name of the Committee.';\n",
    "COMMENT ON COLUMN commitee_master.TRES_NM IS 'Treasurers Name: The officially registered treasurer for the committee.';\n",
    "COMMENT ON COLUMN commitee_master.CMTE_ST1 IS 'Street One: Street Name of the Committee';\n",
    "COMMENT ON COLUMN commitee_master.CMTE_ST2 IS 'Street Two: Second Line of Street Name of the Committee';\n",
    "COMMENT ON COLUMN commitee_master.CMTE_CITY IS 'City or Town: City or Town Name of the Committee';\n",
    "COMMENT ON COLUMN commitee_master.CMTE_ST IS 'State: State of the Committee';\n",
    "COMMENT ON COLUMN commitee_master.CMTE_ZIP IS 'Zip Code: ZIP code of the committee';\n",
    "COMMENT ON COLUMN commitee_master.CMTE_DSGN IS 'Committee designation: A = Authorized by a candidate, B = Lobbyist/Registrant PAC, D = Leadership PAC, J = Joint fundraiser, P = Principal campaign committee of a candidate, U = Unauthorized';\n",
    "COMMENT ON COLUMN commitee_master.CMTE_TP IS 'Committee Type: C = Communication Cost, D = Delegate Committee, E = Electioneering Communication, H = House, I = Independent Expenditor (person or group), N = PAC - nonqualified, O = Independent expenditure-only (Super PACs), P = Presidential, Q = PAC - qualified, S = Senate, U = Single-candidate independent expenditure, V = Hybrid PAC (with Non-Contribution Account) - Nonqualified, W = Hybrid PAC (with Non-Contribution Account) - Qualifed, X = Party - nonqualified, Y = Party - qualified, Z = National party nonfederal account';\n",
    "COMMENT ON COLUMN commitee_master.CMTE_PTY_AFFILIATION IS 'Committee Party: Party Affiliated with the Committee';\n",
    "COMMENT ON COLUMN commitee_master.CMTE_FILING_FREQ IS 'Filing Frequency: A = Administratively terminated, D = Debt, M = Monthly filer, Q = Quarterly filer, T = terminated, W = Waived, C = Corporation, L = Labor organization, M = Membership organization, T = Trade association, V = Cooperative, W = Corportation without capital stock';\n",
    "COMMENT ON COLUMN commitee_master.ORG_TP IS 'City Mailing address: Mailing address - city';\n",
    "COMMENT ON COLUMN commitee_master.CONNECTED_ORG_NM IS 'Connected Organizations Name: Name of any connected organization';\n",
    "COMMENT ON COLUMN commitee_master.CAND_ID IS 'Candidate Identification: When a committee has a committee type designation of H, S, or P, the candidates identification number will be entered in this field.';"
   ]
  },
  {
   "cell_type": "code",
   "execution_count": 10,
   "id": "b9e6076f-406a-4843-8cb9-e66e4bf32431",
   "metadata": {},
   "outputs": [
    {
     "data": {
      "text/html": [
       "<span style=\"None\">Running query in &#x27;postgresql://student@/edassignment3&#x27;</span>"
      ],
      "text/plain": [
       "Running query in 'postgresql://student@/edassignment3'"
      ]
     },
     "metadata": {},
     "output_type": "display_data"
    },
    {
     "data": {
      "text/html": [
       "<table>\n",
       "    <thead>\n",
       "        <tr>\n",
       "            <th>cmte_id</th>\n",
       "            <th>cmte_nm</th>\n",
       "            <th>tres_nm</th>\n",
       "            <th>cmte_st1</th>\n",
       "            <th>cmte_st2</th>\n",
       "            <th>cmte_city</th>\n",
       "            <th>cmte_st</th>\n",
       "            <th>cmte_zip</th>\n",
       "            <th>cmte_dsgn</th>\n",
       "            <th>cmte_tp</th>\n",
       "            <th>cmte_pty_affiliation</th>\n",
       "            <th>cmte_filing_freq</th>\n",
       "            <th>org_tp</th>\n",
       "            <th>connected_org_nm</th>\n",
       "            <th>cand_id</th>\n",
       "        </tr>\n",
       "    </thead>\n",
       "    <tbody>\n",
       "    </tbody>\n",
       "</table>"
      ],
      "text/plain": [
       "+---------+---------+---------+----------+----------+-----------+---------+----------+-----------+---------+----------------------+------------------+--------+------------------+---------+\n",
       "| cmte_id | cmte_nm | tres_nm | cmte_st1 | cmte_st2 | cmte_city | cmte_st | cmte_zip | cmte_dsgn | cmte_tp | cmte_pty_affiliation | cmte_filing_freq | org_tp | connected_org_nm | cand_id |\n",
       "+---------+---------+---------+----------+----------+-----------+---------+----------+-----------+---------+----------------------+------------------+--------+------------------+---------+\n",
       "+---------+---------+---------+----------+----------+-----------+---------+----------+-----------+---------+----------------------+------------------+--------+------------------+---------+"
      ]
     },
     "execution_count": 10,
     "metadata": {},
     "output_type": "execute_result"
    }
   ],
   "source": [
    "%%sql\n",
    "--- Quick function just to check all of the columns in the table\n",
    "select * from commitee_master;"
   ]
  },
  {
   "cell_type": "code",
   "execution_count": 11,
   "id": "6449336f-7959-4ed4-9d1b-7d7a4cb54161",
   "metadata": {},
   "outputs": [
    {
     "data": {
      "text/html": [
       "<span style=\"None\">Running query in &#x27;postgresql://student@/edassignment3&#x27;</span>"
      ],
      "text/plain": [
       "Running query in 'postgresql://student@/edassignment3'"
      ]
     },
     "metadata": {},
     "output_type": "display_data"
    },
    {
     "data": {
      "text/html": [
       "<table>\n",
       "    <thead>\n",
       "        <tr>\n",
       "        </tr>\n",
       "    </thead>\n",
       "    <tbody>\n",
       "    </tbody>\n",
       "</table>"
      ],
      "text/plain": [
       "++\n",
       "||\n",
       "++\n",
       "++"
      ]
     },
     "execution_count": 11,
     "metadata": {},
     "output_type": "execute_result"
    }
   ],
   "source": [
    "%%sql\n",
    "--creating the table for candidate_commitee_linkage                    \n",
    "DROP TABLE IF EXISTS candidate_commitee_linkage CASCADE; --- dropping table if exists\n",
    "CREATE TABLE candidate_commitee_linkage ( --- creating table\n",
    "\tCAND_ID VARCHAR (9) NOT NULL,\n",
    "\tCAND_ELECTION_YR NUMERIC (4) NOT NULL,\n",
    "\tFEC_ELECTION_YR NUMERIC (4) NOT NULL,\n",
    "\tCMTE_ID VARCHAR (9) DEFAULT NULL,\n",
    "\tCMTE_TP VARCHAR (1) DEFAULT NULL,\n",
    "\tCMTE_DSGN VARCHAR (1) DEFAULT 'X',\n",
    "\tLINKAGE_ID NUMERIC (12) NOT NULL,\n",
    "\tPRIMARY KEY ( LINKAGE_ID) --- \tadding primary key to table \n",
    "); \n"
   ]
  },
  {
   "cell_type": "code",
   "execution_count": 12,
   "id": "dcae2c1e-0c56-48bf-bc26-b32e51055f69",
   "metadata": {},
   "outputs": [
    {
     "data": {
      "text/html": [
       "<span style=\"None\">Running query in &#x27;postgresql://student@/edassignment3&#x27;</span>"
      ],
      "text/plain": [
       "Running query in 'postgresql://student@/edassignment3'"
      ]
     },
     "metadata": {},
     "output_type": "display_data"
    },
    {
     "data": {
      "text/html": [
       "<table>\n",
       "    <thead>\n",
       "        <tr>\n",
       "        </tr>\n",
       "    </thead>\n",
       "    <tbody>\n",
       "    </tbody>\n",
       "</table>"
      ],
      "text/plain": [
       "++\n",
       "||\n",
       "++\n",
       "++"
      ]
     },
     "execution_count": 12,
     "metadata": {},
     "output_type": "execute_result"
    }
   ],
   "source": [
    "%%sql \n",
    "--- this function sets a comment on the table, in this case, it gives the table its description\n",
    "COMMENT ON TABLE candidate_commitee_linkage IS\n",
    "'Candidate-Committee Linkage: links entities (1) and (2). It contains one record for each candidate to committee linkage.';"
   ]
  },
  {
   "cell_type": "code",
   "execution_count": 13,
   "id": "5aae7fa4-3dc7-4342-a970-a2863f561d67",
   "metadata": {},
   "outputs": [
    {
     "data": {
      "text/html": [
       "<span style=\"None\">Running query in &#x27;postgresql://student@/edassignment3&#x27;</span>"
      ],
      "text/plain": [
       "Running query in 'postgresql://student@/edassignment3'"
      ]
     },
     "metadata": {},
     "output_type": "display_data"
    },
    {
     "data": {
      "text/html": [
       "<table>\n",
       "    <thead>\n",
       "        <tr>\n",
       "        </tr>\n",
       "    </thead>\n",
       "    <tbody>\n",
       "    </tbody>\n",
       "</table>"
      ],
      "text/plain": [
       "++\n",
       "||\n",
       "++\n",
       "++"
      ]
     },
     "execution_count": 13,
     "metadata": {},
     "output_type": "execute_result"
    }
   ],
   "source": [
    "%%sql \n",
    "--- this function sets a comment on each column. in this case, it gives the column its description\n",
    "COMMENT ON COLUMN candidate_commitee_linkage.CAND_ID IS 'Candidate Identification: A 9-character alpha-numeric code assigned to a candidate by the Federal Election Commission. The candidate ID for a specific candidate remains the same across election cycles as long as the candidate is running for the same office.';\n",
    "COMMENT ON COLUMN candidate_commitee_linkage.CAND_ELECTION_YR IS 'Candidate election year: Candidates election year.';\n",
    "COMMENT ON COLUMN candidate_commitee_linkage.FEC_ELECTION_YR IS 'FEC election year: Active 2-year period.';\n",
    "COMMENT ON COLUMN candidate_commitee_linkage.CMTE_ID IS 'Committee Identification: A 9-character alpha-numeric code assigned to a committee by the Federal Election Commission. The committee ID for a specific committee always remains the same.';\n",
    "COMMENT ON COLUMN candidate_commitee_linkage.CMTE_TP IS 'Committee Type: C = Communication Cost, D = Delegate Committee, E = Electioneering Communication, H = House, I = Independent Expenditor (person or group), N = PAC - nonqualified, O = Independent expenditure-only (Super PACs), P = Presidential, Q = PAC - qualified, S = Senate, U = Single-candidate independent expenditure, V = Hybrid PAC (with Non-Contribution Account) - Nonqualified, W = Hybrid PAC (with Non-Contribution Account) - Qualifed, X = Party - nonqualified, Y = Party - qualified, Z = National party nonfederal account';\n",
    "COMMENT ON COLUMN candidate_commitee_linkage.CMTE_DSGN IS 'Committee designation: A = Authorized by a candidate, B = Lobbyist/Registrant PAC, D = Leadership PAC, J = Joint fundraiser, P = Principal campaign committee of a candidate, U = Unauthorized';\n",
    "COMMENT ON COLUMN candidate_commitee_linkage.LINKAGE_ID IS 'Linkage ID: Unique link ID.';"
   ]
  },
  {
   "cell_type": "code",
   "execution_count": 14,
   "id": "7a06d9c1-a977-4da4-8c86-fb917a2b1253",
   "metadata": {},
   "outputs": [
    {
     "data": {
      "text/html": [
       "<span style=\"None\">Running query in &#x27;postgresql://student@/edassignment3&#x27;</span>"
      ],
      "text/plain": [
       "Running query in 'postgresql://student@/edassignment3'"
      ]
     },
     "metadata": {},
     "output_type": "display_data"
    },
    {
     "data": {
      "text/html": [
       "<table>\n",
       "    <thead>\n",
       "        <tr>\n",
       "            <th>cand_id</th>\n",
       "            <th>cand_election_yr</th>\n",
       "            <th>fec_election_yr</th>\n",
       "            <th>cmte_id</th>\n",
       "            <th>cmte_tp</th>\n",
       "            <th>cmte_dsgn</th>\n",
       "            <th>linkage_id</th>\n",
       "        </tr>\n",
       "    </thead>\n",
       "    <tbody>\n",
       "    </tbody>\n",
       "</table>"
      ],
      "text/plain": [
       "+---------+------------------+-----------------+---------+---------+-----------+------------+\n",
       "| cand_id | cand_election_yr | fec_election_yr | cmte_id | cmte_tp | cmte_dsgn | linkage_id |\n",
       "+---------+------------------+-----------------+---------+---------+-----------+------------+\n",
       "+---------+------------------+-----------------+---------+---------+-----------+------------+"
      ]
     },
     "execution_count": 14,
     "metadata": {},
     "output_type": "execute_result"
    }
   ],
   "source": [
    "%%sql \n",
    "--- Quick function just to check all of the columns in the table\n",
    "select * from candidate_commitee_linkage"
   ]
  },
  {
   "cell_type": "code",
   "execution_count": 15,
   "id": "3ef6a369-ab14-48fb-8e4f-a4195f45f2e7",
   "metadata": {},
   "outputs": [
    {
     "data": {
      "text/html": [
       "<span style=\"None\">Running query in &#x27;postgresql://student@/edassignment3&#x27;</span>"
      ],
      "text/plain": [
       "Running query in 'postgresql://student@/edassignment3'"
      ]
     },
     "metadata": {},
     "output_type": "display_data"
    },
    {
     "data": {
      "text/html": [
       "<table>\n",
       "    <thead>\n",
       "        <tr>\n",
       "        </tr>\n",
       "    </thead>\n",
       "    <tbody>\n",
       "    </tbody>\n",
       "</table>"
      ],
      "text/plain": [
       "++\n",
       "||\n",
       "++\n",
       "++"
      ]
     },
     "execution_count": 15,
     "metadata": {},
     "output_type": "execute_result"
    }
   ],
   "source": [
    "%%sql\n",
    "--creating the table for contributions_by_individuals                    \n",
    "DROP TABLE IF EXISTS contributions_by_individuals CASCADE; -- dropping table if it exists\n",
    "CREATE TABLE contributions_by_individuals (    --creating table \n",
    "\tCMTE_ID VARCHAR (9) NOT NULL,\n",
    "\tAMNDT_IND VARCHAR (1) DEFAULT 'X',\n",
    "\tRPT_TP VARCHAR (3) DEFAULT 'XXX',\t\n",
    "\tTRANSACTION_PGI VARCHAR (5) DEFAULT 'X9999',\n",
    "\tIMAGE_NUM VARCHAR(18) DEFAULT '999999999999999999',\n",
    "\tTRANSACTION_TP VARCHAR (3) DEFAULT '99X',\n",
    "\tENTITY_TP VARCHAR (3) DEFAULT 'XXX',\n",
    "\tNAME VARCHAR (200) DEFAULT '',\n",
    "\tCITY VARCHAR (30) DEFAULT 'UKNOWN',\n",
    "\tSTATE VARCHAR (2) DEFAULT 'XX',\n",
    "\tZIP_CODE VARCHAR (9) DEFAULT '999999999',\n",
    "\tEMPLOYER VARCHAR (38) DEFAULT 'NONE',\n",
    "\tOCCUPATION VARCHAR (38) DEFAULT 'NONE',\n",
    "\tTRANSACTION_DT DATE DEFAULT NULL,\n",
    "\tTRANSACTION_AMT NUMERIC (14,2) DEFAULT '0',\n",
    "\tOTHER_ID VARCHAR (9) DEFAULT NULL,\n",
    "\tTRAN_ID VARCHAR (32) DEFAULT 'UNKNOWN',\n",
    "\tFILE_NUM NUMERIC (22) DEFAULT NULL,\n",
    "\tMEMO_CD VARCHAR (1) DEFAULT NULL,\n",
    "\tMEMO_TEXT VARCHAR (100) DEFAULT '',\n",
    "\tSUB_ID NUMERIC (19) NOT NULL,\n",
    "\tPRIMARY KEY (SUB_ID)  -- adding primary key for table\n",
    "\n",
    ");\n"
   ]
  },
  {
   "cell_type": "code",
   "execution_count": 16,
   "id": "f536f4f8-0536-47da-a23e-52815748fb7e",
   "metadata": {},
   "outputs": [
    {
     "data": {
      "text/html": [
       "<span style=\"None\">Running query in &#x27;postgresql://student@/edassignment3&#x27;</span>"
      ],
      "text/plain": [
       "Running query in 'postgresql://student@/edassignment3'"
      ]
     },
     "metadata": {},
     "output_type": "display_data"
    },
    {
     "data": {
      "text/html": [
       "<table>\n",
       "    <thead>\n",
       "        <tr>\n",
       "        </tr>\n",
       "    </thead>\n",
       "    <tbody>\n",
       "    </tbody>\n",
       "</table>"
      ],
      "text/plain": [
       "++\n",
       "||\n",
       "++\n",
       "++"
      ]
     },
     "execution_count": 16,
     "metadata": {},
     "output_type": "execute_result"
    }
   ],
   "source": [
    "%%sql\n",
    "--- this function sets a comment on the table, in this case, it gives the table its description\n",
    "COMMENT ON TABLE contributions_by_individuals IS\n",
    "'Individual Contributions: contains each contribution from an individual to a federal committee.';"
   ]
  },
  {
   "cell_type": "code",
   "execution_count": 68,
   "id": "76682cfd-b363-4c0d-90e1-36e598bd8dc5",
   "metadata": {},
   "outputs": [
    {
     "data": {
      "text/html": [
       "<span style=\"None\">Running query in &#x27;postgresql://student@/edassignment3&#x27;</span>"
      ],
      "text/plain": [
       "Running query in 'postgresql://student@/edassignment3'"
      ]
     },
     "metadata": {},
     "output_type": "display_data"
    },
    {
     "data": {
      "text/html": [
       "<table>\n",
       "    <thead>\n",
       "        <tr>\n",
       "        </tr>\n",
       "    </thead>\n",
       "    <tbody>\n",
       "    </tbody>\n",
       "</table>"
      ],
      "text/plain": [
       "++\n",
       "||\n",
       "++\n",
       "++"
      ]
     },
     "execution_count": 68,
     "metadata": {},
     "output_type": "execute_result"
    }
   ],
   "source": [
    "%%sql \n",
    "--- this function sets a comment on each column. in this case, it gives the column its description\n",
    "COMMENT ON COLUMN contributions_by_individuals.CMTE_ID IS 'Committee Identification: A 9-character alpha-numeric code assigned to a committee by the Federal Election Commission.';\n",
    "COMMENT ON COLUMN contributions_by_individuals.AMNDT_IND IS 'Amendment indicator: Indicates if the report being filed is new (N), an amendment (A) to a previous report or a termination (T) report.';\n",
    "COMMENT ON COLUMN contributions_by_individuals.RPT_TP IS 'Report Type: Indicates the type of report filed.';\n",
    "COMMENT ON COLUMN contributions_by_individuals.TRANSACTION_PGI IS 'Primary-general indicator: This code indicates the election for which the contribution was made. EYYYY (election plus election year), P = Primary, G = General, O = Other, C = Convention, R = Runoff, S = Special, E = Recount.';\n",
    "COMMENT ON COLUMN contributions_by_individuals.IMAGE_NUM IS 'Image Number: 11-digit Image Number Format. YYOORRRFFFF, YY - scanning year, OO - office (01 - House, 02 - Senate, 03 - FEC Paper, 90-99- FEC Electronic), RRR - reel number, FFFF- frame number. 18-digit Image Number Format (June 29, 2015), YYYYMMDDSSPPPPPPPP, YYYY - scanning year, MM - scanning month, DD - scanning day, SS - source (02 - Senate, 03 - FEC Paper, 90-99 - FEC Electronic), and PPPPPPPP - page (reset to zero every year on January 1)';\n",
    "COMMENT ON COLUMN contributions_by_individuals.TRANSACTION_TP IS 'Transaction Type: Transaction types 10, 11, 15, 15C, 15E, 15I, 15T, 19, 22Y, 24I, 24T, 20Y and 21Y are included in the INDIV file. Beginning with 2016 transaction types 30, 30T, 31, 31T, 32, 32T, 40T, 40Y, 41T, 41Y, 42T and 42Y are also included in the INDIV file.';\n",
    "COMMENT ON COLUMN contributions_by_individuals.ENTITY_TP IS 'Entity type: ONLY VALID FOR ELECTRONIC FILINGS received after April 2002. CAN = Candidate, CCM = Candidate Committee, COM = Committee, IND = Individual (a person), ORG = Organization (not a committee and not a person), PAC = Political Action Committee, PTY = Party Organization.';\n",
    "COMMENT ON COLUMN contributions_by_individuals.NAME IS 'Contributor/Lender/Transfer Name: Name of the Individual Contributor/Lender/Transfer.';\n",
    "COMMENT ON COLUMN contributions_by_individuals.CITY IS 'City: City of the Contributor/Lender/Transfer.';\n",
    "COMMENT ON COLUMN contributions_by_individuals.STATE IS 'State: State of the Contributor/Lender/Transfer.';\n",
    "COMMENT ON COLUMN contributions_by_individuals.ZIP_CODE IS 'Zip Code: Zip Code of the Contributor/Lender/Transfer.';\n",
    "COMMENT ON COLUMN contributions_by_individuals.EMPLOYER IS 'Employer: Name of the employer of the Contributor/Lender/Transfer';\n",
    "COMMENT ON COLUMN contributions_by_individuals.OCCUPATION IS 'Occupation: Occupation of the the Contributor/Lender/Transfer';\n",
    "COMMENT ON COLUMN contributions_by_individuals.TRANSACTION_DT IS 'Transaction Date: Date of Transaction in MMDDYYY format.';\n",
    "COMMENT ON COLUMN contributions_by_individuals.TRANSACTION_AMT IS 'Transaction Amount: Dollar amount of the transaction.';\n",
    "COMMENT ON COLUMN contributions_by_individuals.OTHER_ID IS 'Other identification number: For contributions from individuals this column is null. For contributions from candidates or other committees this column will contain that contributors FEC ID.';\n",
    "COMMENT ON COLUMN contributions_by_individuals.TRAN_ID IS 'Transaction ID: ONLY VALID FOR ELECTRONIC FILINGS. A unique identifier associated with each itemization or transaction appearing in an FEC electronic file. A transaction ID is unique for a specific committee for a specific report. In other words, if committee, C1, files a Q3 New with transaction SA123 and then files 3 amendments to the Q3 transaction SA123 will be identified by transaction ID SA123 in all 4 filings.';\n",
    "COMMENT ON COLUMN contributions_by_individuals.FILE_NUM IS 'File number / Report ID: Unique Report ID.';\n",
    "COMMENT ON COLUMN contributions_by_individuals.MEMO_CD IS 'Memo code: X indicates that the amount is NOT to be included in the itemization total.';\n",
    "COMMENT ON COLUMN contributions_by_individuals.MEMO_TEXT IS 'Memo text: A description of the activity. Memo Text is available on itemized amounts on Schedules A and B. These transactions are included in the itemization total.';\n",
    "COMMENT ON COLUMN contributions_by_individuals.SUB_ID IS 'FEC record number: Unique row ID.';"
   ]
  },
  {
   "cell_type": "code",
   "execution_count": 18,
   "id": "bb999be8-fb82-4502-86e8-2bbbcb9be04b",
   "metadata": {},
   "outputs": [
    {
     "data": {
      "text/html": [
       "<span style=\"None\">Running query in &#x27;postgresql://student@/edassignment3&#x27;</span>"
      ],
      "text/plain": [
       "Running query in 'postgresql://student@/edassignment3'"
      ]
     },
     "metadata": {},
     "output_type": "display_data"
    },
    {
     "data": {
      "text/html": [
       "<table>\n",
       "    <thead>\n",
       "        <tr>\n",
       "            <th>cmte_id</th>\n",
       "            <th>amndt_ind</th>\n",
       "            <th>rpt_tp</th>\n",
       "            <th>transaction_pgi</th>\n",
       "            <th>image_num</th>\n",
       "            <th>transaction_tp</th>\n",
       "            <th>entity_tp</th>\n",
       "            <th>name</th>\n",
       "            <th>city</th>\n",
       "            <th>state</th>\n",
       "            <th>zip_code</th>\n",
       "            <th>employer</th>\n",
       "            <th>occupation</th>\n",
       "            <th>transaction_dt</th>\n",
       "            <th>transaction_amt</th>\n",
       "            <th>other_id</th>\n",
       "            <th>tran_id</th>\n",
       "            <th>file_num</th>\n",
       "            <th>memo_cd</th>\n",
       "            <th>memo_text</th>\n",
       "            <th>sub_id</th>\n",
       "        </tr>\n",
       "    </thead>\n",
       "    <tbody>\n",
       "    </tbody>\n",
       "</table>"
      ],
      "text/plain": [
       "+---------+-----------+--------+-----------------+-----------+----------------+-----------+------+------+-------+----------+----------+------------+----------------+-----------------+----------+---------+----------+---------+-----------+--------+\n",
       "| cmte_id | amndt_ind | rpt_tp | transaction_pgi | image_num | transaction_tp | entity_tp | name | city | state | zip_code | employer | occupation | transaction_dt | transaction_amt | other_id | tran_id | file_num | memo_cd | memo_text | sub_id |\n",
       "+---------+-----------+--------+-----------------+-----------+----------------+-----------+------+------+-------+----------+----------+------------+----------------+-----------------+----------+---------+----------+---------+-----------+--------+\n",
       "+---------+-----------+--------+-----------------+-----------+----------------+-----------+------+------+-------+----------+----------+------------+----------------+-----------------+----------+---------+----------+---------+-----------+--------+"
      ]
     },
     "execution_count": 18,
     "metadata": {},
     "output_type": "execute_result"
    }
   ],
   "source": [
    "%%sql\n",
    "--- Quick function just to check all of the columns in the table\n",
    "select * from contributions_by_individuals;"
   ]
  },
  {
   "cell_type": "code",
   "execution_count": 19,
   "id": "1ddd12ba-e469-479e-aa66-9a780ca3cc88",
   "metadata": {},
   "outputs": [
    {
     "data": {
      "text/html": [
       "<span style=\"None\">Running query in &#x27;postgresql://student@/edassignment3&#x27;</span>"
      ],
      "text/plain": [
       "Running query in 'postgresql://student@/edassignment3'"
      ]
     },
     "metadata": {},
     "output_type": "display_data"
    },
    {
     "data": {
      "text/html": [
       "<table>\n",
       "    <thead>\n",
       "        <tr>\n",
       "        </tr>\n",
       "    </thead>\n",
       "    <tbody>\n",
       "    </tbody>\n",
       "</table>"
      ],
      "text/plain": [
       "++\n",
       "||\n",
       "++\n",
       "++"
      ]
     },
     "execution_count": 19,
     "metadata": {},
     "output_type": "execute_result"
    }
   ],
   "source": [
    "%%sql \n",
    "---creating table for financial summary \n",
    "DROP TABLE IF EXISTS financial_summary CASCADE; --dropping table if it exists\n",
    "CREATE TABLE financial_summary (  ---creating the table \n",
    "\tCAND_ID VARCHAR (9) NOT NULL,\n",
    "\tCAND_NAME VARCHAR(200) DEFAULT NULL,\n",
    "\tCAND_ICI VARCHAR(1) DEFAULT 'U',\n",
    "\tPTY_CD VARCHAR(1) DEFAULT 'X',\n",
    "\tCAND_PTY_AFFILIATION VARCHAR(3) DEFAULT'UNK',\n",
    "\tTTL_RECEIPTS NUMERIC(14,2) DEFAULT '0',\n",
    "\tTRANS_FROM_AUTH NUMERIC(14,2) DEFAULT '0',\n",
    "\tTTL_DISB NUMERIC(14,2) DEFAULT '0',\n",
    "\tTRANS_TO_AUTH NUMERIC(14,2) DEFAULT '0',\n",
    "\tCOH_BOP NUMERIC(14,2) DEFAULT '0',\n",
    "\tCOH_COP NUMERIC(14,2) DEFAULT '0',\n",
    "\tCAND_CONTRIB NUMERIC(14,2) DEFAULT '0',\n",
    "\tCAND_LOANS NUMERIC(14,2) DEFAULT '0',\n",
    "\tOTHER_LOANS NUMERIC(14,2) DEFAULT '0',\n",
    "\tCAND_LOAN_REPAY NUMERIC(14,2) DEFAULT '0',\n",
    "\tOTHER_LOAN_REPAY NUMERIC(14,2) DEFAULT '0',\n",
    "\tDEBTS_OWED_BY NUMERIC(14,2) DEFAULT '0',\n",
    "\tTTL_INDIV_CONTRIB NUMERIC(14,2) DEFAULT '0',\n",
    "\tCAND_OFFICE_ST VARCHAR(2) DEFAULT 'XX',\n",
    "\tCAND_OFFICE_DISTRICT VARCHAR(2) DEFAULT 'XX',\n",
    "\tSPEC_ELECTION VARCHAR(1) DEFAULT NULL,\n",
    "\tPRIM_ELECTION VARCHAR(1) DEFAULT NULL,\n",
    "\tRUN_ELECTION VARCHAR(1) DEFAULT NULL,\n",
    "\tGEN_ELECTION VARCHAR(1) DEFAULT NULL,\n",
    "\tGEN_ELECTION_PRECENT NUMERIC(7,4) DEFAULT NULL,\n",
    "\tOTHER_POL_CMTE_CONTRIB NUMERIC(14,2) DEFAULT '0',\n",
    "\tPOL_PTY_CONTRIB NUMERIC(14,2) DEFAULT '0',\n",
    "\tCVG_END_DT DATE DEFAULT NULL,\n",
    "\tINDIV_REFUNDS NUMERIC(14,2) DEFAULT '0',\n",
    "\tCMTE_REFUNDS NUMERIC(14,2) DEFAULT '0',\n",
    "\tPRIMARY KEY (CAND_ID),--adding primary key to the table\n",
    "\tFOREIGN KEY (CAND_ID) REFERENCES Candidate_Master(CAND_ID)---- adding foreign key that goes to candidate master\n",
    ");\n"
   ]
  },
  {
   "cell_type": "code",
   "execution_count": 20,
   "id": "3fcdde5d-6e48-4547-9b74-31d71a32bb0b",
   "metadata": {},
   "outputs": [
    {
     "data": {
      "text/html": [
       "<span style=\"None\">Running query in &#x27;postgresql://student@/edassignment3&#x27;</span>"
      ],
      "text/plain": [
       "Running query in 'postgresql://student@/edassignment3'"
      ]
     },
     "metadata": {},
     "output_type": "display_data"
    },
    {
     "data": {
      "text/html": [
       "<table>\n",
       "    <thead>\n",
       "        <tr>\n",
       "        </tr>\n",
       "    </thead>\n",
       "    <tbody>\n",
       "    </tbody>\n",
       "</table>"
      ],
      "text/plain": [
       "++\n",
       "||\n",
       "++\n",
       "++"
      ]
     },
     "execution_count": 20,
     "metadata": {},
     "output_type": "execute_result"
    }
   ],
   "source": [
    "%%sql\n",
    "--- this function sets a comment on the table, in this case, it gives the table its description\n",
    "COMMENT ON TABLE financial_summary IS\n",
    "'Financial Summary: provides overall receipts and disbursements for each party committee registered with the commission, along with a breakdown of overall receipts by source and totals for contributions to other committees, independent expenditures made and other information.';"
   ]
  },
  {
   "cell_type": "code",
   "execution_count": 69,
   "id": "c166e5ce-fc58-4d25-aefe-f26793477fb6",
   "metadata": {},
   "outputs": [
    {
     "data": {
      "text/html": [
       "<span style=\"None\">Running query in &#x27;postgresql://student@/edassignment3&#x27;</span>"
      ],
      "text/plain": [
       "Running query in 'postgresql://student@/edassignment3'"
      ]
     },
     "metadata": {},
     "output_type": "display_data"
    },
    {
     "data": {
      "text/html": [
       "<table>\n",
       "    <thead>\n",
       "        <tr>\n",
       "        </tr>\n",
       "    </thead>\n",
       "    <tbody>\n",
       "    </tbody>\n",
       "</table>"
      ],
      "text/plain": [
       "++\n",
       "||\n",
       "++\n",
       "++"
      ]
     },
     "execution_count": 69,
     "metadata": {},
     "output_type": "execute_result"
    }
   ],
   "source": [
    "%%sql \n",
    "--- this function sets a comment on each column. in this case, it gives the column its description\n",
    "COMMENT ON COLUMN financial_summary.CAND_ID IS 'Candidate Identification: A 9-character alpha-numeric code assigned to a candidate by the Federal Election Commission. The candidate ID for a specific candidate remains the same across election cycles as long as the candidate is running for the same office..';\n",
    "COMMENT ON COLUMN financial_summary.CAND_NAME IS 'Candidate Name: Name of the Candidate.';\n",
    "COMMENT ON COLUMN financial_summary.CAND_ICI IS 'Incumbent challenger status: C = Challenger, I = Incumbent, O = Open Seat is used to indicate an open seat; open seats are defined as seats where the incumbent never sought re-election';\n",
    "COMMENT ON COLUMN financial_summary.PTY_CD IS 'Party Code: Code for the party of the candidate';\n",
    "COMMENT ON COLUMN financial_summary.CAND_PTY_AFFILIATION IS 'Party Affiliation: The political party affiliation reported by the candidate.';\n",
    "COMMENT ON COLUMN financial_summary.TTL_RECEIPTS IS 'Total receipts: total of received contributions per candidate';\n",
    "COMMENT ON COLUMN financial_summary.TRANS_TO_AUTH IS 'Transfers from authorized committees: Total transfers from authorized committees.';\n",
    "COMMENT ON COLUMN financial_summary.TTL_DISB IS 'Total disbursements: Total disbursements to candidate.';\n",
    "COMMENT ON COLUMN financial_summary.TRANS_TO_AUTH IS 'Transfers to authorized committees: Total transfers to authorized committees.';\n",
    "COMMENT ON COLUMN financial_summary.COH_BOP IS 'Beginning Cash: Beginning Cash before transfer.';\n",
    "COMMENT ON COLUMN financial_summary.COH_COP IS 'Ending Cash: Ending Cash after transfer';\n",
    "COMMENT ON COLUMN financial_summary.CAND_CONTRIB IS 'Contributions from candidate: Total contributions from candidate';\n",
    "COMMENT ON COLUMN financial_summary.CAND_LOANS IS 'Loans from candidate: Total loans from candidate.';\n",
    "COMMENT ON COLUMN financial_summary.OTHER_LOANS IS 'Other loans: Other loans in report.';\n",
    "COMMENT ON COLUMN financial_summary.CAND_LOAN_REPAY IS 'Candidate loan repayments: Total repayments of loan by candidate.';\n",
    "COMMENT ON COLUMN financial_summary.DEBTS_OWED_BY IS 'Debts owed by: Total debts owed.';\n",
    "COMMENT ON COLUMN financial_summary.TTL_INDIV_CONTRIB IS 'Total individual contributions: Total amount of individual contributions.';\n",
    "COMMENT ON COLUMN financial_summary.CAND_OFFICE_ST IS 'Candidate State: State of Candidate.';\n",
    "COMMENT ON COLUMN financial_summary.CAND_OFFICE_DISTRICT IS 'Candidate District: District of Candidate.';\n",
    "\n",
    "COMMENT ON COLUMN financial_summary.SPEC_ELECTION IS 'Special election status: Win or loss of special election, Election result data included in 1996-2006 files only.';\n",
    "COMMENT ON COLUMN financial_summary.PRIM_ELECTION IS 'Primary election status: Win or loss of primary election, Election result data included in 1996-2006 files only.';\n",
    "COMMENT ON COLUMN financial_summary.RUN_ELECTION IS 'Runoff election status: Win or loss of runoff election, Election result data included in 1996-2006 files only..';\n",
    "COMMENT ON COLUMN financial_summary.GEN_ELECTION IS 'General election status: Win or loss of general election, Election result data included in 1996-2006 files only.';\n",
    "COMMENT ON COLUMN financial_summary.GEN_ELECTION_PRECENT IS 'General Election Percentage: Percentage won in general election, Election result data included in 1996-2006 files only.';\n",
    "COMMENT ON COLUMN financial_summary.OTHER_POL_CMTE_CONTRIB IS 'Contributions frm other political committees: Total contributions from other political commmittees.';\n",
    "COMMENT ON COLUMN financial_summary.POL_PTY_CONTRIB IS 'Contributions from party committees: Total contributions from party committees.';\n",
    "COMMENT ON COLUMN financial_summary.CVG_END_DT IS 'Coverage end date: End date of coverage for the candidate.';\n",
    "COMMENT ON COLUMN financial_summary.INDIV_REFUNDS IS 'Refunds to individuals: total amount refunded to individuals.';\n",
    "COMMENT ON COLUMN financial_summary.CMTE_REFUNDS IS 'Refunds to committees: Total amount refunded to committees.';\n",
    "\n"
   ]
  },
  {
   "cell_type": "code",
   "execution_count": 22,
   "id": "b3dce94a-1bc5-42a1-ae59-d6aab9d575a5",
   "metadata": {},
   "outputs": [
    {
     "data": {
      "text/html": [
       "<span style=\"None\">Running query in &#x27;postgresql://student@/edassignment3&#x27;</span>"
      ],
      "text/plain": [
       "Running query in 'postgresql://student@/edassignment3'"
      ]
     },
     "metadata": {},
     "output_type": "display_data"
    },
    {
     "data": {
      "text/html": [
       "<table>\n",
       "    <thead>\n",
       "        <tr>\n",
       "        </tr>\n",
       "    </thead>\n",
       "    <tbody>\n",
       "    </tbody>\n",
       "</table>"
      ],
      "text/plain": [
       "++\n",
       "||\n",
       "++\n",
       "++"
      ]
     },
     "execution_count": 22,
     "metadata": {},
     "output_type": "execute_result"
    }
   ],
   "source": [
    "%%sql\n",
    "-- creating foreign key connections between tables \n",
    "ALTER TABLE contributions_by_individuals add FOREIGN KEY (CMTE_ID) REFERENCES commitee_master(CMTE_ID); --adding foreign key from contributions to commitee master cmte_id\n",
    "---ALTER TABLE candidate_commitee_linkage add FOREIGN KEY (CMTE_ID) REFERENCES commitee_master(CMTE_ID); --adding foreign ket from linkage cmte_id to comittee cmte_id \n",
    "--ALTER TABLE candidate_commitee_linkage add FOREIGN KEY (CAND_ID) REFERENCES candidate_master(CAND_ID);-- adding foreign key cand_id from linkage to candidate master\n"
   ]
  },
  {
   "cell_type": "markdown",
   "id": "b80a4d04-ce47-4513-b4bf-c324aeabdf29",
   "metadata": {},
   "source": [
    "### Had to comment out the foreign keys from candidate_committee_linkage to both candidate_master and commitee_master because a foreign key violation error appear on both because the linkage has some cmte_id and cand_id that don't exist in both candidate and commitee master. "
   ]
  },
  {
   "cell_type": "markdown",
   "id": "a30bfd87-f378-473e-a297-681be5d797cc",
   "metadata": {},
   "source": [
    "# Problem 2"
   ]
  },
  {
   "cell_type": "markdown",
   "id": "0791c009-2f1e-4f3d-9deb-7689059af483",
   "metadata": {},
   "source": [
    "The goal of this problem is to put all of the data into its respective table from the FEC links"
   ]
  },
  {
   "cell_type": "code",
   "execution_count": 23,
   "id": "4ba7c09f-c8cb-4517-9e8e-ef7f516c303a",
   "metadata": {},
   "outputs": [
    {
     "name": "stdout",
     "output_type": "stream",
     "text": [
      "--2025-04-11 15:46:30--  https://www.fec.gov/files/bulk-downloads/2026/cn26.zip\n",
      "Resolving www.fec.gov (www.fec.gov)... 18.160.46.26, 18.160.46.102, 18.160.46.56, ...\n",
      "Connecting to www.fec.gov (www.fec.gov)|18.160.46.26|:443... connected.\n",
      "HTTP request sent, awaiting response... 302 Moved Temporarily\n",
      "Location: https://cg-519a459a-0ea3-42c2-b7bc-fa1143481f74.s3-us-gov-west-1.amazonaws.com/bulk-downloads/2026/cn26.zip [following]\n",
      "--2025-04-11 15:46:30--  https://cg-519a459a-0ea3-42c2-b7bc-fa1143481f74.s3-us-gov-west-1.amazonaws.com/bulk-downloads/2026/cn26.zip\n",
      "Resolving cg-519a459a-0ea3-42c2-b7bc-fa1143481f74.s3-us-gov-west-1.amazonaws.com (cg-519a459a-0ea3-42c2-b7bc-fa1143481f74.s3-us-gov-west-1.amazonaws.com)... 136.18.0.189\n",
      "Connecting to cg-519a459a-0ea3-42c2-b7bc-fa1143481f74.s3-us-gov-west-1.amazonaws.com (cg-519a459a-0ea3-42c2-b7bc-fa1143481f74.s3-us-gov-west-1.amazonaws.com)|136.18.0.189|:443... connected.\n",
      "HTTP request sent, awaiting response... 200 OK\n",
      "Length: 182824 (179K) [application/zip]\n",
      "Saving to: ‘cn26.zip’\n",
      "\n",
      "cn26.zip            100%[===================>] 178.54K   737KB/s    in 0.2s    \n",
      "\n",
      "2025-04-11 15:46:30 (737 KB/s) - ‘cn26.zip’ saved [182824/182824]\n",
      "\n"
     ]
    }
   ],
   "source": [
    "!wget https://www.fec.gov/files/bulk-downloads/2026/cn26.zip\n",
    "#This code uses wget to access the zip code from the fec.gov website"
   ]
  },
  {
   "cell_type": "code",
   "execution_count": 24,
   "id": "46699c20-443e-4f5c-ab2d-72a7cd2ce70c",
   "metadata": {},
   "outputs": [
    {
     "name": "stdout",
     "output_type": "stream",
     "text": [
      "Archive:  cn26.zip\n",
      "  inflating: cn.txt                  \n"
     ]
    }
   ],
   "source": [
    "!unzip -o cn26.zip\n",
    "# this code unzips the file where -o overwrites"
   ]
  },
  {
   "cell_type": "code",
   "execution_count": 25,
   "id": "f974700f-8d98-4328-ada6-2e7c8e0622a1",
   "metadata": {},
   "outputs": [
    {
     "name": "stdout",
     "output_type": "stream",
     "text": [
      "H0AL01055|CARL, JERRY LEE, JR|REP|2026|AL|H|01|C|C|C00697789|PO BOX 852138||MOBILE|AL|36685\n",
      "H0AL01097|AVERHART, JAMES|DEM|2024|AL|H|02|C|P|C00708867|811 SPRINGHILL AV||MOBILE|AL|36602\n",
      "H0AL02087|ROBY, MARTHA|REP|2020|AL|H|02|I|P|C00462143|||MONTGOMERY||\n",
      "H0AL02202|HARVEY-HALL, PHYLLIS|DEM|2024|AL|H|02|C|P|C00728873|P.O. BOX 11564||MONTGOMERY|AL|36111\n",
      "H0AL05049|CRAMER, ROBERT E \"BUD\" JR|DEM|2008|AL|H|05|I|P|C00239038|PO BOX 2621||HUNTSVILLE|AL|35804\n",
      "H0AL07086|SEWELL, TERRI A.|DEM|2026|AL|H|07|I|C|C00458976|PO BOX 1964||BIRMINGHAM|AL|35201\n",
      "H0AR01083|CRAWFORD, ERIC ALAN RICK|REP|2026|AR|H|01|I|C|C00462374|34 CR 455||JONESBORO|AR|72404\n",
      "H0AR01125|SMITH, PRINCELLA D|REP|2010|AR|H|01|O|P|C00480905|2000 WYNRIDGE COVE||WYNNE|AR|72396\n",
      "H0AR03030|WHITAKER, DAVID JEFFREY|DEM|2010|AR|H|03|O|P|C00468033|PO BOX 957||FAYETTEVILLE|AR|727020957\n",
      "H0AR03055|WOMACK, STEPHEN A THE HON|REP|2026|AR|H|03|I|C|C00477745|91 WOODRIDGE LN||ROGERS|AR|727563078\n"
     ]
    }
   ],
   "source": [
    "!head cn.txt\n",
    "#quick function get head and check that the data is in the txt file and check delimiter"
   ]
  },
  {
   "cell_type": "code",
   "execution_count": 26,
   "id": "eb52e070-36c8-4f47-aab5-e24c0d0c5b91",
   "metadata": {},
   "outputs": [
    {
     "data": {
      "text/html": [
       "<span style=\"None\">Running query in &#x27;postgresql://student@/edassignment3&#x27;</span>"
      ],
      "text/plain": [
       "Running query in 'postgresql://student@/edassignment3'"
      ]
     },
     "metadata": {},
     "output_type": "display_data"
    },
    {
     "data": {
      "text/html": [
       "<span style=\"color: green\">4885 rows affected.</span>"
      ],
      "text/plain": [
       "4885 rows affected."
      ]
     },
     "metadata": {},
     "output_type": "display_data"
    },
    {
     "data": {
      "text/html": [
       "<table>\n",
       "    <thead>\n",
       "        <tr>\n",
       "        </tr>\n",
       "    </thead>\n",
       "    <tbody>\n",
       "    </tbody>\n",
       "</table>"
      ],
      "text/plain": [
       "++\n",
       "||\n",
       "++\n",
       "++"
      ]
     },
     "execution_count": 26,
     "metadata": {},
     "output_type": "execute_result"
    }
   ],
   "source": [
    "%%sql\n",
    "COPY candidate_master FROM '/home/ubuntu/cn.txt'\n",
    "DELIMITER '|'\n",
    "CSV;\n",
    "---load the data into candidate_master while using | as the delimiter to place each bit of data into its own column then treats it like a csv file"
   ]
  },
  {
   "cell_type": "code",
   "execution_count": 27,
   "id": "98a2d9d2-86ac-4a23-9edd-b71d94ac9e74",
   "metadata": {},
   "outputs": [
    {
     "name": "stdout",
     "output_type": "stream",
     "text": [
      "/home/ubuntu\n"
     ]
    }
   ],
   "source": [
    "!pwd"
   ]
  },
  {
   "cell_type": "code",
   "execution_count": 28,
   "id": "39208d73-7927-4c96-b1fb-cea162254a05",
   "metadata": {},
   "outputs": [
    {
     "name": "stdout",
     "output_type": "stream",
     "text": [
      "--2025-04-11 15:46:45--  https://www.fec.gov/files/bulk-downloads/2026/cm26.zip\n",
      "Resolving www.fec.gov (www.fec.gov)... 18.160.46.56, 18.160.46.26, 18.160.46.98, ...\n",
      "Connecting to www.fec.gov (www.fec.gov)|18.160.46.56|:443... connected.\n",
      "HTTP request sent, awaiting response... 302 Moved Temporarily\n",
      "Location: https://cg-519a459a-0ea3-42c2-b7bc-fa1143481f74.s3-us-gov-west-1.amazonaws.com/bulk-downloads/2026/cm26.zip [following]\n",
      "--2025-04-11 15:46:45--  https://cg-519a459a-0ea3-42c2-b7bc-fa1143481f74.s3-us-gov-west-1.amazonaws.com/bulk-downloads/2026/cm26.zip\n",
      "Resolving cg-519a459a-0ea3-42c2-b7bc-fa1143481f74.s3-us-gov-west-1.amazonaws.com (cg-519a459a-0ea3-42c2-b7bc-fa1143481f74.s3-us-gov-west-1.amazonaws.com)... 108.175.49.160\n",
      "Connecting to cg-519a459a-0ea3-42c2-b7bc-fa1143481f74.s3-us-gov-west-1.amazonaws.com (cg-519a459a-0ea3-42c2-b7bc-fa1143481f74.s3-us-gov-west-1.amazonaws.com)|108.175.49.160|:443... connected.\n",
      "HTTP request sent, awaiting response... 200 OK\n",
      "Length: 627932 (613K) [application/zip]\n",
      "Saving to: ‘cm26.zip’\n",
      "\n",
      "cm26.zip            100%[===================>] 613.21K  1.69MB/s    in 0.4s    \n",
      "\n",
      "2025-04-11 15:46:46 (1.69 MB/s) - ‘cm26.zip’ saved [627932/627932]\n",
      "\n"
     ]
    }
   ],
   "source": [
    "!wget https://www.fec.gov/files/bulk-downloads/2026/cm26.zip\n",
    "#This code uses wget to access the zip code from the fec.gov website"
   ]
  },
  {
   "cell_type": "code",
   "execution_count": 29,
   "id": "9c554ff0-b22e-48e4-be4a-110585b54dac",
   "metadata": {},
   "outputs": [
    {
     "name": "stdout",
     "output_type": "stream",
     "text": [
      "Archive:  cm26.zip\n",
      "  inflating: cm.txt                  \n"
     ]
    }
   ],
   "source": [
    "!unzip cm26.zip\n",
    "# this code unzips the file"
   ]
  },
  {
   "cell_type": "code",
   "execution_count": 30,
   "id": "e2712665-f7b0-4578-b9ed-90cc663ee792",
   "metadata": {},
   "outputs": [
    {
     "name": "stdout",
     "output_type": "stream",
     "text": [
      "C00000059|HALLMARK CARDS, INC. PAC (HALLPAC)|KLEIN, CASSIE MS.|2501 MCGEE, MD853||KANSAS CITY|MO|64108|B|Q|UNK|M|C|HALLMARK CARDS, INC.|\n",
      "C00000422|AMERICAN MEDICAL ASSOCIATION POLITICAL ACTION COMMITTEE|JORDAN, JOHN ROBERT MR.|25 MASSACHUSETTS AVE, NW|SUITE 600|WASHINGTON|DC|200017400|B|Q||M||AMERICAN MEDICAL ASSOCIATION|\n",
      "C00000489|D R I V E POLITICAL FUND CHAPTER 886|JERRY SIMS JR|3528 W RENO||OKLAHOMA CITY|OK|73107|U|N||Q|L||\n",
      "C00000729|AMERICAN DENTAL ASSOCIATION POLITICAL ACTION COMMITTEE|TIPPETT-WHYTE, JUDEE DR.|400 C STREET, NE||WASHINGTON|DC|20002|B|Q|UNK|Q|M||\n",
      "C00000885|INTERNATIONAL UNION OF PAINTERS AND ALLIED TRADES POLITICAL ACTION TOGETHER POLITICAL COMMITTEE|SMITH, GREGG|7234 PARKWAY DRIVE||HANOVER|MD|21076|B|Q|UNK|M|L|INTERNATIONAL UNION OF PAINTERS AND ALLIED TRADES|\n",
      "C00000901|BUILD POLITICAL ACTION COMMITTEE OF THE NATIONAL ASSOCIATION OF HOME BUILDERS (BUILDPAC)|RAMAGE, EILEEN|1201 15TH STREET, NW||WASHINGTON|DC|20005|B|Q|UNK|M|T|NATIONAL ASSOCIATION OF HOME BUILDERS|\n",
      "C00000935|DCCC|MERZ, JULIE|430 SOUTH CAPITOL STREET, SE|2ND FLOOR|WASHINGTON|DC|200034024|U|Y|DEM|M|||\n",
      "C00000984|UNITED STATES TELECOM ASSOCIATION POLITICAL ACTION COMMITTEE (TELECOMPAC)|HEINER, BRANDON|601 NEW JERSEY AVE NW|STE 600|WASHINGTON|DC|20001|B|Q|UNK|M|T|UNITED STATES TELECOM ASSOCIATION|\n",
      "C00001016|CARPENTERS LEGISLATIVE IMPROVEMENT COMMITTEE UNITED BROTHERHOOD OF CARPENTERS AND JOINERS|FLYNN, THOMAS|101 CONSTITUTION AVENUE, NW|10TH FLOOR WEST|WASHINGTON|DC|20001|B|Q|NNE|M|L|UNITED BROTHERHOOD OF CARPENTERS AND JOINERS OF AMERICA|\n",
      "C00001180|MICHIGAN DOCTORS POLITICAL ACTION COMMITTEE - MICHIGAN STATE MEDICAL SOCIETY|GHOSE, AMIT|P.O. BOX 769||EAST LANSING|MI|48826|U|Q|NNE|Q|T|MICHIGAN STATE MEDICAL SOCIETY|\n"
     ]
    }
   ],
   "source": [
    "!head cm.txt\n",
    "#quick function get head and check that the data is in the txt file and check delimiter"
   ]
  },
  {
   "cell_type": "code",
   "execution_count": 31,
   "id": "edf2273c-2cb0-4e90-9bd5-cbd6740b295c",
   "metadata": {},
   "outputs": [
    {
     "data": {
      "text/html": [
       "<span style=\"None\">Running query in &#x27;postgresql://student@/edassignment3&#x27;</span>"
      ],
      "text/plain": [
       "Running query in 'postgresql://student@/edassignment3'"
      ]
     },
     "metadata": {},
     "output_type": "display_data"
    },
    {
     "data": {
      "text/html": [
       "<span style=\"color: green\">14895 rows affected.</span>"
      ],
      "text/plain": [
       "14895 rows affected."
      ]
     },
     "metadata": {},
     "output_type": "display_data"
    },
    {
     "data": {
      "text/html": [
       "<table>\n",
       "    <thead>\n",
       "        <tr>\n",
       "        </tr>\n",
       "    </thead>\n",
       "    <tbody>\n",
       "    </tbody>\n",
       "</table>"
      ],
      "text/plain": [
       "++\n",
       "||\n",
       "++\n",
       "++"
      ]
     },
     "execution_count": 31,
     "metadata": {},
     "output_type": "execute_result"
    }
   ],
   "source": [
    "%%sql \n",
    "COPY commitee_master FROM '/home/ubuntu/cm.txt'\n",
    "DELIMITER '|'\n",
    "CSV;\n",
    "---load the data into commitee_master while using | as the delimiter to place each bit of data into its own column then treats it like a csv file"
   ]
  },
  {
   "cell_type": "code",
   "execution_count": 32,
   "id": "3a20412a-7850-4274-88b2-37a16a365d73",
   "metadata": {},
   "outputs": [
    {
     "name": "stdout",
     "output_type": "stream",
     "text": [
      "--2025-04-11 15:46:56--  https://www.fec.gov/files/bulk-downloads/2026/indiv26.zip\n",
      "Resolving www.fec.gov (www.fec.gov)... 18.160.46.102, 18.160.46.56, 18.160.46.98, ...\n",
      "Connecting to www.fec.gov (www.fec.gov)|18.160.46.102|:443... connected.\n",
      "HTTP request sent, awaiting response... 302 Moved Temporarily\n",
      "Location: https://cg-519a459a-0ea3-42c2-b7bc-fa1143481f74.s3-us-gov-west-1.amazonaws.com/bulk-downloads/2026/indiv26.zip [following]\n",
      "--2025-04-11 15:46:56--  https://cg-519a459a-0ea3-42c2-b7bc-fa1143481f74.s3-us-gov-west-1.amazonaws.com/bulk-downloads/2026/indiv26.zip\n",
      "Resolving cg-519a459a-0ea3-42c2-b7bc-fa1143481f74.s3-us-gov-west-1.amazonaws.com (cg-519a459a-0ea3-42c2-b7bc-fa1143481f74.s3-us-gov-west-1.amazonaws.com)... 108.175.50.184\n",
      "Connecting to cg-519a459a-0ea3-42c2-b7bc-fa1143481f74.s3-us-gov-west-1.amazonaws.com (cg-519a459a-0ea3-42c2-b7bc-fa1143481f74.s3-us-gov-west-1.amazonaws.com)|108.175.50.184|:443... connected.\n",
      "HTTP request sent, awaiting response... 200 OK\n",
      "Length: 10363107 (9.9M) [application/zip]\n",
      "Saving to: ‘indiv26.zip’\n",
      "\n",
      "indiv26.zip         100%[===================>]   9.88M  8.08MB/s    in 1.2s    \n",
      "\n",
      "2025-04-11 15:46:58 (8.08 MB/s) - ‘indiv26.zip’ saved [10363107/10363107]\n",
      "\n"
     ]
    }
   ],
   "source": [
    "!wget https://www.fec.gov/files/bulk-downloads/2026/indiv26.zip\n",
    "#This code uses wget to access the zip code from the fec.gov website"
   ]
  },
  {
   "cell_type": "code",
   "execution_count": 33,
   "id": "daf96547-652d-46f9-9439-87f92fba3461",
   "metadata": {},
   "outputs": [
    {
     "name": "stdout",
     "output_type": "stream",
     "text": [
      "Archive:  indiv26.zip\n",
      "  inflating: itcont.txt              \n",
      "replace by_date/itcont_2026_invalid_dates.txt? [y]es, [n]o, [A]ll, [N]one, [r]ename: ^C\n"
     ]
    }
   ],
   "source": [
    "!unzip indiv26.zip \n",
    "# this code unzips the file"
   ]
  },
  {
   "cell_type": "code",
   "execution_count": 36,
   "id": "073b8851-cc21-4814-aba0-85136d67f877",
   "metadata": {},
   "outputs": [
    {
     "name": "stdout",
     "output_type": "stream",
     "text": [
      "C00095869|N|M3|P|202503109754081902|15|IND|MOELLER, PHILIP D.|WASHINGTON|DC|200042696|EDISON ELECTRIC INSTITUTE|EXECUTIVE VICE PRESIDENT, REGULATORY A|02152025|208||980837E662014C5DA866|1879824|||4031020251179764615\n",
      "C00095869|N|M3|P|202503109754081902|15|IND|MOELLER, PHILIP D.|WASHINGTON|DC|200042696|EDISON ELECTRIC INSTITUTE|EXECUTIVE VICE PRESIDENT, REGULATORY A|02282025|208||59CD26D3D4D94C649A38|1879824|||4031020251179764616\n",
      "C00095869|N|M3|P|202503109754081902|15|IND|OWEN, BETHANY M.|DULUTH|MN|558022191|ALLETE|CHAIR, PRESIDENT & CEO|02242025|5000||5488DCF2-AA36-4B08-|1879824|||4031020251179764617\n",
      "C00095869|N|M3|P|202503109754081903|15|IND|REITEN, PAT|WASHINGTON|DC|200042195|BERKSHIRE HATHAWAY ENERGY|SVP, PUBLIC POLICY, GOVERNMENT RELATIO|02282025|208||4F55A8C8D89751C8FFD1|1879824|||4031020251179764618\n",
      "C00095869|N|M3|P|202503109754081903|15|IND|ROWE, ROBERT C.|MISSOULA|MT|59801|NORTHWESTERN ENERGY|FORMER CEO|02052025|208||42E6BED632C2E7A8D1E3|1879824|||4031020251179764619\n",
      "C00095869|N|M3|P|202503109754081903|15|IND|SEIM, RUTH|WASHINGTON|DC|200042615|ALLIANT ENERGY|SENIOR FEDERAL AFFAIRS SPECIALIST|02132025|250||89A867C5-F8BD-4C87-|1879824|||4031020251179764620\n",
      "C00095869|N|M3|P|202503109754081904|15|IND|SEWELL, MICHAEL|WASHINGTON|DC|200012271|TECO ENERGY|VP, FEDERAL AFFAIRS|02262025|250||43D012A2-320A-495C-|1879824|||4031020251179764621\n",
      "C00095869|N|M3|P|202503109754081904|15|IND|SIEGELE, KRISTEN|WASHINGTON|DC|200042696|EDISON ELECTRIC INSTITUTE|SENIOR DIRECTOR, GOVERNMENT AFFAIRS, T|02152025|104||923EA95C52A4418EA5DC|1879824|||4031020251179764622\n",
      "C00095869|N|M3|P|202503109754081904|15|IND|SIEGELE, KRISTEN|WASHINGTON|DC|200042696|EDISON ELECTRIC INSTITUTE|SENIOR DIRECTOR, GOVERNMENT AFFAIRS, T|02282025|104||06390DCD93DD49F88B9F|1879824|||4031020251179764623\n",
      "C00095869|N|M3|P|202503109754081905|15|IND|STEPHENS, KEITH|MCKINNEY|TX|750726333|NATIONAL GRID|SVP/GROUP CORPORATE AFFAIRS DIRECTOR|02112025|208||4B4A83B56BD6AE3E6B93|1879824|||4031020251179764624\n"
     ]
    }
   ],
   "source": [
    "!head itcont.txt\n",
    "#quick function get head and check that the data is in the txt file and check delimiter"
   ]
  },
  {
   "cell_type": "code",
   "execution_count": 37,
   "id": "1d45fa34-311f-494c-baf1-13f6a8c2d53e",
   "metadata": {},
   "outputs": [
    {
     "data": {
      "text/html": [
       "<span style=\"None\">Running query in &#x27;postgresql://student@/edassignment3&#x27;</span>"
      ],
      "text/plain": [
       "Running query in 'postgresql://student@/edassignment3'"
      ]
     },
     "metadata": {},
     "output_type": "display_data"
    },
    {
     "data": {
      "text/html": [
       "<table>\n",
       "    <thead>\n",
       "        <tr>\n",
       "        </tr>\n",
       "    </thead>\n",
       "    <tbody>\n",
       "    </tbody>\n",
       "</table>"
      ],
      "text/plain": [
       "++\n",
       "||\n",
       "++\n",
       "++"
      ]
     },
     "execution_count": 37,
     "metadata": {},
     "output_type": "execute_result"
    }
   ],
   "source": [
    "%%sql \n",
    "--- making date into text for now to upload the data\n",
    "ALTER TABLE contributions_by_individuals\n",
    "ALTER COLUMN TRANSACTION_DT TYPE TEXT USING TRANSACTION_DT::TEXT;"
   ]
  },
  {
   "cell_type": "code",
   "execution_count": 38,
   "id": "df60991c-1f51-44bd-9498-ed16f29793e6",
   "metadata": {
    "scrolled": true
   },
   "outputs": [
    {
     "data": {
      "text/html": [
       "<span style=\"None\">Running query in &#x27;postgresql://student@/edassignment3&#x27;</span>"
      ],
      "text/plain": [
       "Running query in 'postgresql://student@/edassignment3'"
      ]
     },
     "metadata": {},
     "output_type": "display_data"
    },
    {
     "data": {
      "text/html": [
       "<span style=\"color: green\">323003 rows affected.</span>"
      ],
      "text/plain": [
       "323003 rows affected."
      ]
     },
     "metadata": {},
     "output_type": "display_data"
    },
    {
     "data": {
      "text/html": [
       "<table>\n",
       "    <thead>\n",
       "        <tr>\n",
       "        </tr>\n",
       "    </thead>\n",
       "    <tbody>\n",
       "    </tbody>\n",
       "</table>"
      ],
      "text/plain": [
       "++\n",
       "||\n",
       "++\n",
       "++"
      ]
     },
     "execution_count": 38,
     "metadata": {},
     "output_type": "execute_result"
    }
   ],
   "source": [
    "%%sql \n",
    "COPY contributions_by_individuals FROM '/home/ubuntu/itcont.txt'\n",
    "DELIMITER '|'\n",
    "CSV;\n",
    "---load the data into individual_contributions while using | as the delimiter to place each bit of data into its own column then treats it like a csv file"
   ]
  },
  {
   "cell_type": "code",
   "execution_count": 39,
   "id": "cdb8955c-5328-43e6-a17d-0f4b781457c2",
   "metadata": {
    "scrolled": true
   },
   "outputs": [
    {
     "name": "stdout",
     "output_type": "stream",
     "text": [
      "--2025-04-11 15:47:48--  https://www.fec.gov/files/bulk-downloads/2026/weball26.zip\n",
      "Resolving www.fec.gov (www.fec.gov)... 18.160.46.26, 18.160.46.56, 18.160.46.98, ...\n",
      "Connecting to www.fec.gov (www.fec.gov)|18.160.46.26|:443... connected.\n",
      "HTTP request sent, awaiting response... 302 Moved Temporarily\n",
      "Location: https://cg-519a459a-0ea3-42c2-b7bc-fa1143481f74.s3-us-gov-west-1.amazonaws.com/bulk-downloads/2026/weball26.zip [following]\n",
      "--2025-04-11 15:47:48--  https://cg-519a459a-0ea3-42c2-b7bc-fa1143481f74.s3-us-gov-west-1.amazonaws.com/bulk-downloads/2026/weball26.zip\n",
      "Resolving cg-519a459a-0ea3-42c2-b7bc-fa1143481f74.s3-us-gov-west-1.amazonaws.com (cg-519a459a-0ea3-42c2-b7bc-fa1143481f74.s3-us-gov-west-1.amazonaws.com)... 108.175.56.58\n",
      "Connecting to cg-519a459a-0ea3-42c2-b7bc-fa1143481f74.s3-us-gov-west-1.amazonaws.com (cg-519a459a-0ea3-42c2-b7bc-fa1143481f74.s3-us-gov-west-1.amazonaws.com)|108.175.56.58|:443... connected.\n",
      "HTTP request sent, awaiting response... 200 OK\n",
      "Length: 18242 (18K) [application/zip]\n",
      "Saving to: ‘weball26.zip’\n",
      "\n",
      "weball26.zip        100%[===================>]  17.81K  --.-KB/s    in 0s      \n",
      "\n",
      "2025-04-11 15:47:48 (239 MB/s) - ‘weball26.zip’ saved [18242/18242]\n",
      "\n"
     ]
    }
   ],
   "source": [
    "!wget https://www.fec.gov/files/bulk-downloads/2026/weball26.zip\n",
    "#This code uses wget to access the zip code from the fec.gov website"
   ]
  },
  {
   "cell_type": "code",
   "execution_count": 40,
   "id": "d4d18c5c-f095-45b0-bf93-6ca10d637d15",
   "metadata": {},
   "outputs": [
    {
     "name": "stdout",
     "output_type": "stream",
     "text": [
      "Archive:  weball26.zip\n",
      "  inflating: weball26.txt            \n"
     ]
    }
   ],
   "source": [
    "!unzip weball26.zip  \n",
    "# this code unzips the file"
   ]
  },
  {
   "cell_type": "code",
   "execution_count": 41,
   "id": "e1206603-b267-4858-b43f-473918e5c278",
   "metadata": {},
   "outputs": [
    {
     "name": "stdout",
     "output_type": "stream",
     "text": [
      "H4AL07104|LITAKER, ROBIN DR.|C|2|REP|0|0|0|0|0|0|0|0|0|0|0|17577.39|0|AL|07||||||0|0|01/11/2025|0|0\n",
      "H0AR03055|WOMACK, STEPHEN A THE HON|I|2|REP|345152.9|0|61701.99|0|1715893.66|1999344.57|0|0|0|0|0|0|177386.13|AR|03||||||152000|0|03/31/2025|49.5|0\n",
      "H4AZ01244|O'CALLAGHAN, CONOR|C|1|DEM|0|0|0|0|0|0|0|0|0|0|0|1008210.62|0|AZ|01||||||0|0|03/31/2025|0|0\n",
      "H2AZ01172|RENZI, RICHARD G.|I|2|REP|0|0|0|0|0|0|0|0|0|0|0|456157.37|0|AZ|01||||||0|0|03/31/2025|0|0\n",
      "H2AZ06247|NORTON, ELIJAH|C|2|REP|0|0|0|0|1816.69|1816.69|0|0|0|0|0|4772612.36|0|AZ|01||||||0|0|03/31/2025|0|0\n",
      "H8AZ02136|HEINZ, MATTHEW GERALD|O|1|DEM|0|0|0|0|0|0|0|0|0|0|0|250000|0|AZ|02||||||0|0|03/31/2025|0|0\n",
      "H4AZ03141|WOOTEN, DUANE M MD|O|1|DEM|0|0|0|0|3583.13|3583.13|0|0|0|0|0|0|0|AZ|03||||||0|0|02/17/2025|0|0\n",
      "H2AZ09183|DAVISON, JERONE|C|2|REP|300|0|0|0|-2930.41|-2630.41|0|0|0|0|0|0|300|AZ|04||||||0|0|03/31/2025|0|0\n",
      "H2AZ09191|COOPER, KELLY|C|2|REP|0|0|30190.18|0|30190.18|0|0|0|0|23800|0|0|0|AZ|04||||||0|0|01/30/2025|0|0\n",
      "H6AZ04219|HONER, BRADLEY J|C|2|REP|10|0|888.39|0|0|-878.39|0|0|0|0|0|0|10|AZ|04||||||0|0|04/05/2025|0|0\n"
     ]
    }
   ],
   "source": [
    "!head weball26.txt\n",
    "#quick function get head and check that the data is in the txt file and check delimiter"
   ]
  },
  {
   "cell_type": "code",
   "execution_count": 42,
   "id": "04d7fe91-94eb-4c74-a827-1085fc5984d4",
   "metadata": {},
   "outputs": [
    {
     "data": {
      "text/html": [
       "<span style=\"None\">Running query in &#x27;postgresql://student@/edassignment3&#x27;</span>"
      ],
      "text/plain": [
       "Running query in 'postgresql://student@/edassignment3'"
      ]
     },
     "metadata": {},
     "output_type": "display_data"
    },
    {
     "data": {
      "text/html": [
       "<span style=\"color: green\">532 rows affected.</span>"
      ],
      "text/plain": [
       "532 rows affected."
      ]
     },
     "metadata": {},
     "output_type": "display_data"
    },
    {
     "data": {
      "text/html": [
       "<table>\n",
       "    <thead>\n",
       "        <tr>\n",
       "        </tr>\n",
       "    </thead>\n",
       "    <tbody>\n",
       "    </tbody>\n",
       "</table>"
      ],
      "text/plain": [
       "++\n",
       "||\n",
       "++\n",
       "++"
      ]
     },
     "execution_count": 42,
     "metadata": {},
     "output_type": "execute_result"
    }
   ],
   "source": [
    "%%sql \n",
    "COPY financial_summary FROM '/home/ubuntu/weball26.txt'\n",
    "DELIMITER '|'\n",
    "csv;\n",
    "---load the data into financial summary while using | as the delimiter to place each bit of data into its own column then treats it like a csv file"
   ]
  },
  {
   "cell_type": "code",
   "execution_count": 43,
   "id": "f4a9dab8-3953-4827-932b-86e2aca9d8fb",
   "metadata": {},
   "outputs": [
    {
     "name": "stdout",
     "output_type": "stream",
     "text": [
      "--2025-04-11 15:48:03--  https://www.fec.gov/files/bulk-downloads/2026/ccl26.zip\n",
      "Resolving www.fec.gov (www.fec.gov)... 18.160.46.98, 18.160.46.56, 18.160.46.102, ...\n",
      "Connecting to www.fec.gov (www.fec.gov)|18.160.46.98|:443... connected.\n",
      "HTTP request sent, awaiting response... 302 Moved Temporarily\n",
      "Location: https://cg-519a459a-0ea3-42c2-b7bc-fa1143481f74.s3-us-gov-west-1.amazonaws.com/bulk-downloads/2026/ccl26.zip [following]\n",
      "--2025-04-11 15:48:03--  https://cg-519a459a-0ea3-42c2-b7bc-fa1143481f74.s3-us-gov-west-1.amazonaws.com/bulk-downloads/2026/ccl26.zip\n",
      "Resolving cg-519a459a-0ea3-42c2-b7bc-fa1143481f74.s3-us-gov-west-1.amazonaws.com (cg-519a459a-0ea3-42c2-b7bc-fa1143481f74.s3-us-gov-west-1.amazonaws.com)... 108.175.48.160\n",
      "Connecting to cg-519a459a-0ea3-42c2-b7bc-fa1143481f74.s3-us-gov-west-1.amazonaws.com (cg-519a459a-0ea3-42c2-b7bc-fa1143481f74.s3-us-gov-west-1.amazonaws.com)|108.175.48.160|:443... connected.\n",
      "HTTP request sent, awaiting response... 200 OK\n",
      "Length: 52097 (51K) [application/zip]\n",
      "Saving to: ‘ccl26.zip’\n",
      "\n",
      "ccl26.zip           100%[===================>]  50.88K  --.-KB/s    in 0.06s   \n",
      "\n",
      "2025-04-11 15:48:03 (867 KB/s) - ‘ccl26.zip’ saved [52097/52097]\n",
      "\n"
     ]
    }
   ],
   "source": [
    "!wget https://www.fec.gov/files/bulk-downloads/2026/ccl26.zip\n",
    "#This code uses wget to access the zip code from the fec.gov website"
   ]
  },
  {
   "cell_type": "code",
   "execution_count": 44,
   "id": "48bc0cd5-84c5-4584-b6ff-c5f37dc659d4",
   "metadata": {},
   "outputs": [
    {
     "name": "stdout",
     "output_type": "stream",
     "text": [
      "Archive:  ccl26.zip\n",
      "  inflating: ccl.txt                 \n"
     ]
    }
   ],
   "source": [
    "!unzip ccl26.zip\n",
    "# this code unzips the file"
   ]
  },
  {
   "cell_type": "code",
   "execution_count": 45,
   "id": "daf2cf7a-1fee-4055-8c0e-8d9a6c8da581",
   "metadata": {},
   "outputs": [
    {
     "data": {
      "text/html": [
       "<span style=\"None\">Running query in &#x27;postgresql://student@/edassignment3&#x27;</span>"
      ],
      "text/plain": [
       "Running query in 'postgresql://student@/edassignment3'"
      ]
     },
     "metadata": {},
     "output_type": "display_data"
    },
    {
     "data": {
      "text/html": [
       "<span style=\"color: green\">4635 rows affected.</span>"
      ],
      "text/plain": [
       "4635 rows affected."
      ]
     },
     "metadata": {},
     "output_type": "display_data"
    },
    {
     "data": {
      "text/html": [
       "<table>\n",
       "    <thead>\n",
       "        <tr>\n",
       "        </tr>\n",
       "    </thead>\n",
       "    <tbody>\n",
       "    </tbody>\n",
       "</table>"
      ],
      "text/plain": [
       "++\n",
       "||\n",
       "++\n",
       "++"
      ]
     },
     "execution_count": 45,
     "metadata": {},
     "output_type": "execute_result"
    }
   ],
   "source": [
    "%%sql\n",
    "copy candidate_commitee_linkage from '/home/ubuntu/ccl.txt'\n",
    "DELIMITER '|'\n",
    "CSV;\n",
    "---load the data into commitee_linkage while using | as the delimiter to place each bit of data into its own column then treats it like a csv file"
   ]
  },
  {
   "cell_type": "markdown",
   "id": "c0c1fba7-b9e5-4869-9a7b-bb2583c26112",
   "metadata": {},
   "source": [
    "# Problem 3"
   ]
  },
  {
   "cell_type": "markdown",
   "id": "c2a7080e-48e8-4860-9443-8a86df469e47",
   "metadata": {},
   "source": [
    "This problem calculates the number of rows in each table with SQL and then verifies it with shell command."
   ]
  },
  {
   "cell_type": "code",
   "execution_count": 51,
   "id": "91933be5-4aa3-4708-b0a5-93120ff32927",
   "metadata": {},
   "outputs": [
    {
     "name": "stdout",
     "output_type": "stream",
     "text": [
      "\u001b[33mWARNING: Skipping /usr/lib/python3.12/dist-packages/charset_normalizer-3.3.2.dist-info due to invalid metadata entry 'name'\u001b[0m\u001b[33m\n",
      "\u001b[0mRequirement already satisfied: csvkit in /usr/lib/python3/dist-packages (1.4.0)\n",
      "\u001b[33mWARNING: Skipping /usr/lib/python3.12/dist-packages/charset_normalizer-3.3.2.dist-info due to invalid metadata entry 'name'\u001b[0m\u001b[33m\n",
      "\u001b[0m"
     ]
    }
   ],
   "source": [
    "!pip install csvkit"
   ]
  },
  {
   "cell_type": "code",
   "execution_count": 46,
   "id": "add82fa9-47bb-483e-9a24-801f94a3eb22",
   "metadata": {},
   "outputs": [
    {
     "data": {
      "text/html": [
       "<span style=\"None\">Running query in &#x27;postgresql://student@/edassignment3&#x27;</span>"
      ],
      "text/plain": [
       "Running query in 'postgresql://student@/edassignment3'"
      ]
     },
     "metadata": {},
     "output_type": "display_data"
    },
    {
     "data": {
      "text/html": [
       "<span style=\"color: green\">1 rows affected.</span>"
      ],
      "text/plain": [
       "1 rows affected."
      ]
     },
     "metadata": {},
     "output_type": "display_data"
    },
    {
     "data": {
      "text/html": [
       "<table>\n",
       "    <thead>\n",
       "        <tr>\n",
       "            <th>count</th>\n",
       "        </tr>\n",
       "    </thead>\n",
       "    <tbody>\n",
       "        <tr>\n",
       "            <td>4885</td>\n",
       "        </tr>\n",
       "    </tbody>\n",
       "</table>"
      ],
      "text/plain": [
       "+-------+\n",
       "| count |\n",
       "+-------+\n",
       "|  4885 |\n",
       "+-------+"
      ]
     },
     "execution_count": 46,
     "metadata": {},
     "output_type": "execute_result"
    }
   ],
   "source": [
    "%%sql\n",
    "SELECT COUNT (*) --- COUNT() returns the number of rows that match a set rule, the * makes it all of the rows\n",
    "FROM Candidate_Master; --- Get number from candidate master table"
   ]
  },
  {
   "cell_type": "code",
   "execution_count": 47,
   "id": "331a2721-1569-475d-a181-0a4d5c6aab5e",
   "metadata": {},
   "outputs": [
    {
     "name": "stdout",
     "output_type": "stream",
     "text": [
      "4885 cn.txt\n"
     ]
    }
   ],
   "source": [
    "!wc -l cn.txt #This code looks at the txt file that the table got its information from.\n",
    "#wc and -l counts the number of line in the txt file. this should match the count from the table"
   ]
  },
  {
   "cell_type": "code",
   "execution_count": 48,
   "id": "d066f5fb-a7bb-46a6-a2b7-c69cbe438eae",
   "metadata": {},
   "outputs": [
    {
     "data": {
      "text/html": [
       "<span style=\"None\">Running query in &#x27;postgresql://student@/edassignment3&#x27;</span>"
      ],
      "text/plain": [
       "Running query in 'postgresql://student@/edassignment3'"
      ]
     },
     "metadata": {},
     "output_type": "display_data"
    },
    {
     "data": {
      "text/html": [
       "<span style=\"color: green\">1 rows affected.</span>"
      ],
      "text/plain": [
       "1 rows affected."
      ]
     },
     "metadata": {},
     "output_type": "display_data"
    },
    {
     "data": {
      "text/html": [
       "<table>\n",
       "    <thead>\n",
       "        <tr>\n",
       "            <th>count</th>\n",
       "        </tr>\n",
       "    </thead>\n",
       "    <tbody>\n",
       "        <tr>\n",
       "            <td>14895</td>\n",
       "        </tr>\n",
       "    </tbody>\n",
       "</table>"
      ],
      "text/plain": [
       "+-------+\n",
       "| count |\n",
       "+-------+\n",
       "| 14895 |\n",
       "+-------+"
      ]
     },
     "execution_count": 48,
     "metadata": {},
     "output_type": "execute_result"
    }
   ],
   "source": [
    "%%sql\n",
    "SELECT COUNT (*) --- COUNT() returns the number of rows that match a set rule, the * makes it all of the rows\n",
    "FROM commitee_master; --- Get number from committee master table"
   ]
  },
  {
   "cell_type": "code",
   "execution_count": 49,
   "id": "750fc296-fcae-4e0f-8928-c3c8df635e7a",
   "metadata": {},
   "outputs": [
    {
     "name": "stdout",
     "output_type": "stream",
     "text": [
      "14895 cm.txt\n"
     ]
    }
   ],
   "source": [
    "!wc -l cm.txt #This code looks at the txt file that the table got its information from.\n",
    "#wc and -l counts the number of line in the txt file. this should match the count from the table"
   ]
  },
  {
   "cell_type": "code",
   "execution_count": 50,
   "id": "05b4ec46-5a87-4e65-912f-d6975dc25a05",
   "metadata": {},
   "outputs": [
    {
     "data": {
      "text/html": [
       "<span style=\"None\">Running query in &#x27;postgresql://student@/edassignment3&#x27;</span>"
      ],
      "text/plain": [
       "Running query in 'postgresql://student@/edassignment3'"
      ]
     },
     "metadata": {},
     "output_type": "display_data"
    },
    {
     "data": {
      "text/html": [
       "<span style=\"color: green\">1 rows affected.</span>"
      ],
      "text/plain": [
       "1 rows affected."
      ]
     },
     "metadata": {},
     "output_type": "display_data"
    },
    {
     "data": {
      "text/html": [
       "<table>\n",
       "    <thead>\n",
       "        <tr>\n",
       "            <th>count</th>\n",
       "        </tr>\n",
       "    </thead>\n",
       "    <tbody>\n",
       "        <tr>\n",
       "            <td>4635</td>\n",
       "        </tr>\n",
       "    </tbody>\n",
       "</table>"
      ],
      "text/plain": [
       "+-------+\n",
       "| count |\n",
       "+-------+\n",
       "|  4635 |\n",
       "+-------+"
      ]
     },
     "execution_count": 50,
     "metadata": {},
     "output_type": "execute_result"
    }
   ],
   "source": [
    "%%sql\n",
    "SELECT COUNT (*)  --- COUNT() returns the number of rows that match a set rule, the * makes it all of the rows\n",
    "FROM candidate_commitee_linkage; --- Get number from candidate-committee linkage table"
   ]
  },
  {
   "cell_type": "code",
   "execution_count": 51,
   "id": "5705aba6-7cb4-4b38-b0bc-b101b7590503",
   "metadata": {},
   "outputs": [
    {
     "name": "stdout",
     "output_type": "stream",
     "text": [
      "4635 ccl.txt\n"
     ]
    }
   ],
   "source": [
    "!wc -l ccl.txt #This code looks at the txt file that the table got its information from.\n",
    "#wc and -l counts the number of line in the txt file. this should match the count from the table"
   ]
  },
  {
   "cell_type": "code",
   "execution_count": 43,
   "id": "8f17c258-a7ee-42e8-a2dc-aa2d130f311d",
   "metadata": {},
   "outputs": [
    {
     "data": {
      "text/html": [
       "<span style=\"None\">Running query in &#x27;postgresql://student@/edassignment3&#x27;</span>"
      ],
      "text/plain": [
       "Running query in 'postgresql://student@/edassignment3'"
      ]
     },
     "metadata": {},
     "output_type": "display_data"
    },
    {
     "data": {
      "text/html": [
       "<span style=\"color: green\">1 rows affected.</span>"
      ],
      "text/plain": [
       "1 rows affected."
      ]
     },
     "metadata": {},
     "output_type": "display_data"
    },
    {
     "data": {
      "text/html": [
       "<table>\n",
       "    <thead>\n",
       "        <tr>\n",
       "            <th>count</th>\n",
       "        </tr>\n",
       "    </thead>\n",
       "    <tbody>\n",
       "        <tr>\n",
       "            <td>323003</td>\n",
       "        </tr>\n",
       "    </tbody>\n",
       "</table>"
      ],
      "text/plain": [
       "+--------+\n",
       "| count  |\n",
       "+--------+\n",
       "| 323003 |\n",
       "+--------+"
      ]
     },
     "execution_count": 43,
     "metadata": {},
     "output_type": "execute_result"
    }
   ],
   "source": [
    "%%sql\n",
    "SELECT COUNT (*) --- COUNT() returns the number of rows that match a set rule, the * makes it all of the rows\n",
    "FROM contributions_by_individuals; --- Get number from individual contributions table"
   ]
  },
  {
   "cell_type": "code",
   "execution_count": 52,
   "id": "759665b9-d15a-49a9-bd90-b1dc2d0dc775",
   "metadata": {},
   "outputs": [
    {
     "name": "stdout",
     "output_type": "stream",
     "text": [
      "323003 itcont.txt\n"
     ]
    }
   ],
   "source": [
    "!wc -l itcont.txt #This code looks at the txt file that the table got its information from.\n",
    "#wc and -l counts the number of line in the txt file. this should match the count from the table"
   ]
  },
  {
   "cell_type": "code",
   "execution_count": 53,
   "id": "12f19bb1-a76e-4ca9-8ce3-57f85f1bae7d",
   "metadata": {},
   "outputs": [
    {
     "data": {
      "text/html": [
       "<span style=\"None\">Running query in &#x27;postgresql://student@/edassignment3&#x27;</span>"
      ],
      "text/plain": [
       "Running query in 'postgresql://student@/edassignment3'"
      ]
     },
     "metadata": {},
     "output_type": "display_data"
    },
    {
     "data": {
      "text/html": [
       "<span style=\"color: green\">1 rows affected.</span>"
      ],
      "text/plain": [
       "1 rows affected."
      ]
     },
     "metadata": {},
     "output_type": "display_data"
    },
    {
     "data": {
      "text/html": [
       "<table>\n",
       "    <thead>\n",
       "        <tr>\n",
       "            <th>count</th>\n",
       "        </tr>\n",
       "    </thead>\n",
       "    <tbody>\n",
       "        <tr>\n",
       "            <td>532</td>\n",
       "        </tr>\n",
       "    </tbody>\n",
       "</table>"
      ],
      "text/plain": [
       "+-------+\n",
       "| count |\n",
       "+-------+\n",
       "|  532  |\n",
       "+-------+"
      ]
     },
     "execution_count": 53,
     "metadata": {},
     "output_type": "execute_result"
    }
   ],
   "source": [
    "%%sql\n",
    "SELECT COUNT (*) --- COUNT() returns the number of rows that match a set rule, the * makes it all of the rows\n",
    "FROM financial_summary; --- Get number from financial summary table"
   ]
  },
  {
   "cell_type": "code",
   "execution_count": 54,
   "id": "9ce63615-8f86-4e14-a28e-c5a2e4f53b3a",
   "metadata": {},
   "outputs": [
    {
     "name": "stdout",
     "output_type": "stream",
     "text": [
      "532 weball26.txt\n"
     ]
    }
   ],
   "source": [
    "!wc -l weball26.txt #This code looks at the txt file that the table got its information from.\n",
    "#wc and -l counts the number of line in the txt file. this should match the count from the table"
   ]
  },
  {
   "cell_type": "markdown",
   "id": "c8c06c7c-2d18-42b3-9abe-ccf5a7cfaab4",
   "metadata": {},
   "source": [
    "# Problem 4"
   ]
  },
  {
   "cell_type": "markdown",
   "id": "fd3671ac-2ec6-4a7f-92d1-37c272f9cf80",
   "metadata": {},
   "source": [
    "comments in code and markdown cell to explain what is going on"
   ]
  },
  {
   "cell_type": "code",
   "execution_count": 55,
   "id": "188a61e1-14cd-4f3b-88d5-553ebaa2520f",
   "metadata": {},
   "outputs": [
    {
     "data": {
      "text/html": [
       "<span style=\"None\">Running query in &#x27;postgresql://student@/edassignment3&#x27;</span>"
      ],
      "text/plain": [
       "Running query in 'postgresql://student@/edassignment3'"
      ]
     },
     "metadata": {},
     "output_type": "display_data"
    },
    {
     "data": {
      "text/html": [
       "<table>\n",
       "    <thead>\n",
       "        <tr>\n",
       "        </tr>\n",
       "    </thead>\n",
       "    <tbody>\n",
       "    </tbody>\n",
       "</table>"
      ],
      "text/plain": [
       "++\n",
       "||\n",
       "++\n",
       "++"
      ]
     },
     "execution_count": 55,
     "metadata": {},
     "output_type": "execute_result"
    }
   ],
   "source": [
    "%%sql\n",
    "-------adding the column names\n",
    "ALTER TABLE candidate_master\n",
    "Add column First_Name VARCHAR(50), -- adding first name and will be empty\n",
    "ADD COLUMN Last_Name VARCHAR(50); -- adding last name and will be empty "
   ]
  },
  {
   "cell_type": "code",
   "execution_count": 57,
   "id": "61873638-49fb-4fc7-af93-ee529787b509",
   "metadata": {},
   "outputs": [
    {
     "data": {
      "text/html": [
       "<span style=\"None\">Running query in &#x27;postgresql://student@/edassignment3&#x27;</span>"
      ],
      "text/plain": [
       "Running query in 'postgresql://student@/edassignment3'"
      ]
     },
     "metadata": {},
     "output_type": "display_data"
    },
    {
     "data": {
      "text/html": [
       "<span style=\"color: green\">4885 rows affected.</span>"
      ],
      "text/plain": [
       "4885 rows affected."
      ]
     },
     "metadata": {},
     "output_type": "display_data"
    },
    {
     "data": {
      "text/html": [
       "<table>\n",
       "    <thead>\n",
       "        <tr>\n",
       "            <th>first_name</th>\n",
       "            <th>last_name</th>\n",
       "        </tr>\n",
       "    </thead>\n",
       "    <tbody>\n",
       "        <tr>\n",
       "            <td>JERRY LEE</td>\n",
       "            <td>CARL</td>\n",
       "        </tr>\n",
       "        <tr>\n",
       "            <td>JAMES</td>\n",
       "            <td>AVERHART</td>\n",
       "        </tr>\n",
       "        <tr>\n",
       "            <td>MARTHA</td>\n",
       "            <td>ROBY</td>\n",
       "        </tr>\n",
       "        <tr>\n",
       "            <td>PHYLLIS</td>\n",
       "            <td>HARVEY-HALL</td>\n",
       "        </tr>\n",
       "        <tr>\n",
       "            <td>ROBERT E BUD JR</td>\n",
       "            <td>CRAMER</td>\n",
       "        </tr>\n",
       "        <tr>\n",
       "            <td>TERRI A.</td>\n",
       "            <td>SEWELL</td>\n",
       "        </tr>\n",
       "        <tr>\n",
       "            <td>ERIC ALAN RICK</td>\n",
       "            <td>CRAWFORD</td>\n",
       "        </tr>\n",
       "        <tr>\n",
       "            <td>PRINCELLA D</td>\n",
       "            <td>SMITH</td>\n",
       "        </tr>\n",
       "        <tr>\n",
       "            <td>DAVID JEFFREY</td>\n",
       "            <td>WHITAKER</td>\n",
       "        </tr>\n",
       "        <tr>\n",
       "            <td>STEPHEN A THE HON</td>\n",
       "            <td>WOMACK</td>\n",
       "        </tr>\n",
       "    </tbody>\n",
       "</table>\n",
       "<span style=\"font-style:italic;text-align:center;\">Truncated to <a href=\"https://jupysql.ploomber.io/en/latest/api/configuration.html#displaylimit\">displaylimit</a> of 10.</span>"
      ],
      "text/plain": [
       "+-------------------+-------------+\n",
       "|     first_name    |  last_name  |\n",
       "+-------------------+-------------+\n",
       "|     JERRY LEE     |     CARL    |\n",
       "|       JAMES       |   AVERHART  |\n",
       "|       MARTHA      |     ROBY    |\n",
       "|      PHYLLIS      | HARVEY-HALL |\n",
       "|  ROBERT E BUD JR  |    CRAMER   |\n",
       "|      TERRI A.     |    SEWELL   |\n",
       "|   ERIC ALAN RICK  |   CRAWFORD  |\n",
       "|    PRINCELLA D    |    SMITH    |\n",
       "|   DAVID JEFFREY   |   WHITAKER  |\n",
       "| STEPHEN A THE HON |    WOMACK   |\n",
       "+-------------------+-------------+\n",
       "Truncated to displaylimit of 10."
      ]
     },
     "execution_count": 57,
     "metadata": {},
     "output_type": "execute_result"
    }
   ],
   "source": [
    "%%sql\n",
    "-- query to see if logic is correct\n",
    "SELECT \n",
    "  TRIM(SPLIT_PART(CAND_NAME, ',', 2)) AS First_Name, ----splitting the cand name in two parts on the comma taking the second part as the firs_name\n",
    "  TRIM(SPLIT_PART(CAND_NAME, ',', 1)) AS Last_Name --- splitting the cand_name in two parts on the comma taking the first part as the last name\n",
    "FROM candidate_master"
   ]
  },
  {
   "cell_type": "code",
   "execution_count": 58,
   "id": "932064eb-26bf-4a1a-b9db-59eb0b5609ff",
   "metadata": {},
   "outputs": [
    {
     "data": {
      "text/html": [
       "<span style=\"None\">Running query in &#x27;postgresql://student@/edassignment3&#x27;</span>"
      ],
      "text/plain": [
       "Running query in 'postgresql://student@/edassignment3'"
      ]
     },
     "metadata": {},
     "output_type": "display_data"
    },
    {
     "data": {
      "text/html": [
       "<span style=\"color: green\">2 rows affected.</span>"
      ],
      "text/plain": [
       "2 rows affected."
      ]
     },
     "metadata": {},
     "output_type": "display_data"
    },
    {
     "data": {
      "text/html": [
       "<table>\n",
       "    <thead>\n",
       "        <tr>\n",
       "            <th>cand_id</th>\n",
       "            <th>cand_name</th>\n",
       "            <th>cand_pty_affiliation</th>\n",
       "            <th>cand_election_yr</th>\n",
       "            <th>cand_office_st</th>\n",
       "            <th>cand_office</th>\n",
       "            <th>cand_office_district</th>\n",
       "            <th>cand_ici</th>\n",
       "            <th>cand_status</th>\n",
       "            <th>cand_pcc</th>\n",
       "            <th>cand_st1</th>\n",
       "            <th>cand_st2</th>\n",
       "            <th>cand_city</th>\n",
       "            <th>cand_st</th>\n",
       "            <th>cand_zip</th>\n",
       "            <th>first_name</th>\n",
       "            <th>last_name</th>\n",
       "        </tr>\n",
       "    </thead>\n",
       "    <tbody>\n",
       "        <tr>\n",
       "            <td>H0AL01055</td>\n",
       "            <td>CARL, JERRY LEE, JR</td>\n",
       "            <td>REP</td>\n",
       "            <td>2026</td>\n",
       "            <td>AL</td>\n",
       "            <td>H</td>\n",
       "            <td>01</td>\n",
       "            <td>C</td>\n",
       "            <td>C</td>\n",
       "            <td>C00697789</td>\n",
       "            <td>PO BOX 852138</td>\n",
       "            <td>None</td>\n",
       "            <td>MOBILE</td>\n",
       "            <td>AL</td>\n",
       "            <td>36685</td>\n",
       "            <td>None</td>\n",
       "            <td>None</td>\n",
       "        </tr>\n",
       "        <tr>\n",
       "            <td>H0AL01097</td>\n",
       "            <td>AVERHART, JAMES</td>\n",
       "            <td>DEM</td>\n",
       "            <td>2024</td>\n",
       "            <td>AL</td>\n",
       "            <td>H</td>\n",
       "            <td>02</td>\n",
       "            <td>C</td>\n",
       "            <td>P</td>\n",
       "            <td>C00708867</td>\n",
       "            <td>811 SPRINGHILL AV</td>\n",
       "            <td>None</td>\n",
       "            <td>MOBILE</td>\n",
       "            <td>AL</td>\n",
       "            <td>36602</td>\n",
       "            <td>None</td>\n",
       "            <td>None</td>\n",
       "        </tr>\n",
       "    </tbody>\n",
       "</table>"
      ],
      "text/plain": [
       "+-----------+---------------------+----------------------+------------------+----------------+-------------+----------------------+----------+-------------+-----------+-------------------+----------+-----------+---------+----------+------------+-----------+\n",
       "|  cand_id  |      cand_name      | cand_pty_affiliation | cand_election_yr | cand_office_st | cand_office | cand_office_district | cand_ici | cand_status |  cand_pcc |      cand_st1     | cand_st2 | cand_city | cand_st | cand_zip | first_name | last_name |\n",
       "+-----------+---------------------+----------------------+------------------+----------------+-------------+----------------------+----------+-------------+-----------+-------------------+----------+-----------+---------+----------+------------+-----------+\n",
       "| H0AL01055 | CARL, JERRY LEE, JR |         REP          |       2026       |       AL       |      H      |          01          |    C     |      C      | C00697789 |   PO BOX 852138   |   None   |   MOBILE  |    AL   |  36685   |    None    |    None   |\n",
       "| H0AL01097 |   AVERHART, JAMES   |         DEM          |       2024       |       AL       |      H      |          02          |    C     |      P      | C00708867 | 811 SPRINGHILL AV |   None   |   MOBILE  |    AL   |  36602   |    None    |    None   |\n",
       "+-----------+---------------------+----------------------+------------------+----------------+-------------+----------------------+----------+-------------+-----------+-------------------+----------+-----------+---------+----------+------------+-----------+"
      ]
     },
     "execution_count": 58,
     "metadata": {},
     "output_type": "execute_result"
    }
   ],
   "source": [
    "%%sql \n",
    "-- quick query to see columns were created\n",
    "select * from candidate_master\n",
    "limit 2"
   ]
  },
  {
   "cell_type": "code",
   "execution_count": 59,
   "id": "28cd0258-a86b-4159-8d50-3968719ad633",
   "metadata": {},
   "outputs": [
    {
     "data": {
      "text/html": [
       "<span style=\"None\">Running query in &#x27;postgresql://student@/edassignment3&#x27;</span>"
      ],
      "text/plain": [
       "Running query in 'postgresql://student@/edassignment3'"
      ]
     },
     "metadata": {},
     "output_type": "display_data"
    },
    {
     "data": {
      "text/html": [
       "<span style=\"color: green\">4885 rows affected.</span>"
      ],
      "text/plain": [
       "4885 rows affected."
      ]
     },
     "metadata": {},
     "output_type": "display_data"
    },
    {
     "data": {
      "text/html": [
       "<table>\n",
       "    <thead>\n",
       "        <tr>\n",
       "        </tr>\n",
       "    </thead>\n",
       "    <tbody>\n",
       "    </tbody>\n",
       "</table>"
      ],
      "text/plain": [
       "++\n",
       "||\n",
       "++\n",
       "++"
      ]
     },
     "execution_count": 59,
     "metadata": {},
     "output_type": "execute_result"
    }
   ],
   "source": [
    "%%sql\n",
    "UPDATE candidate_master  --putting values from query to split cand_name in two and putting them in first and last name\n",
    "SET \n",
    "  first_name = TRIM(SPLIT_PART(CAND_NAME, ',', 2)), ---updating the empty values in first_name by taking the second part of cand_name and putting it in first name\n",
    "  last_name = TRIM(SPLIT_PART(CAND_NAME, ',', 1))  ---updating the empty values in last_name by taking the first part of cand_name and putting it in last name"
   ]
  },
  {
   "cell_type": "code",
   "execution_count": 61,
   "id": "ed9420e8-2c96-4f93-acbe-44bdbd55d65d",
   "metadata": {},
   "outputs": [
    {
     "data": {
      "text/html": [
       "<span style=\"None\">Running query in &#x27;postgresql://student@/edassignment3&#x27;</span>"
      ],
      "text/plain": [
       "Running query in 'postgresql://student@/edassignment3'"
      ]
     },
     "metadata": {},
     "output_type": "display_data"
    },
    {
     "data": {
      "text/html": [
       "<span style=\"color: green\">2 rows affected.</span>"
      ],
      "text/plain": [
       "2 rows affected."
      ]
     },
     "metadata": {},
     "output_type": "display_data"
    },
    {
     "data": {
      "text/html": [
       "<table>\n",
       "    <thead>\n",
       "        <tr>\n",
       "            <th>cand_id</th>\n",
       "            <th>cand_name</th>\n",
       "            <th>cand_pty_affiliation</th>\n",
       "            <th>cand_election_yr</th>\n",
       "            <th>cand_office_st</th>\n",
       "            <th>cand_office</th>\n",
       "            <th>cand_office_district</th>\n",
       "            <th>cand_ici</th>\n",
       "            <th>cand_status</th>\n",
       "            <th>cand_pcc</th>\n",
       "            <th>cand_st1</th>\n",
       "            <th>cand_st2</th>\n",
       "            <th>cand_city</th>\n",
       "            <th>cand_st</th>\n",
       "            <th>cand_zip</th>\n",
       "            <th>first_name</th>\n",
       "            <th>last_name</th>\n",
       "        </tr>\n",
       "    </thead>\n",
       "    <tbody>\n",
       "        <tr>\n",
       "            <td>P40008641</td>\n",
       "            <td>DVORAK, JOHN</td>\n",
       "            <td>REP</td>\n",
       "            <td>2024</td>\n",
       "            <td>US</td>\n",
       "            <td>P</td>\n",
       "            <td>00</td>\n",
       "            <td>C</td>\n",
       "            <td>N</td>\n",
       "            <td>C00822635</td>\n",
       "            <td>*</td>\n",
       "            <td>None</td>\n",
       "            <td>*</td>\n",
       "            <td>CA</td>\n",
       "            <td>00000</td>\n",
       "            <td>JOHN</td>\n",
       "            <td>DVORAK</td>\n",
       "        </tr>\n",
       "        <tr>\n",
       "            <td>H6OH04173</td>\n",
       "            <td>WILSON, TAMARA</td>\n",
       "            <td>DEM</td>\n",
       "            <td>2026</td>\n",
       "            <td>OH</td>\n",
       "            <td>H</td>\n",
       "            <td>04</td>\n",
       "            <td>None</td>\n",
       "            <td>N</td>\n",
       "            <td>None</td>\n",
       "            <td>273 SARATOGA ST.</td>\n",
       "            <td>None</td>\n",
       "            <td>DELAWARE</td>\n",
       "            <td>OH</td>\n",
       "            <td>43015</td>\n",
       "            <td>TAMARA</td>\n",
       "            <td>WILSON</td>\n",
       "        </tr>\n",
       "    </tbody>\n",
       "</table>"
      ],
      "text/plain": [
       "+-----------+----------------+----------------------+------------------+----------------+-------------+----------------------+----------+-------------+-----------+------------------+----------+-----------+---------+----------+------------+-----------+\n",
       "|  cand_id  |   cand_name    | cand_pty_affiliation | cand_election_yr | cand_office_st | cand_office | cand_office_district | cand_ici | cand_status |  cand_pcc |     cand_st1     | cand_st2 | cand_city | cand_st | cand_zip | first_name | last_name |\n",
       "+-----------+----------------+----------------------+------------------+----------------+-------------+----------------------+----------+-------------+-----------+------------------+----------+-----------+---------+----------+------------+-----------+\n",
       "| P40008641 |  DVORAK, JOHN  |         REP          |       2024       |       US       |      P      |          00          |    C     |      N      | C00822635 |        *         |   None   |     *     |    CA   |  00000   |    JOHN    |   DVORAK  |\n",
       "| H6OH04173 | WILSON, TAMARA |         DEM          |       2026       |       OH       |      H      |          04          |   None   |      N      |    None   | 273 SARATOGA ST. |   None   |  DELAWARE |    OH   |  43015   |   TAMARA   |   WILSON  |\n",
       "+-----------+----------------+----------------------+------------------+----------------+-------------+----------------------+----------+-------------+-----------+------------------+----------+-----------+---------+----------+------------+-----------+"
      ]
     },
     "execution_count": 61,
     "metadata": {},
     "output_type": "execute_result"
    }
   ],
   "source": [
    "%%sql \n",
    "-- quick query to see that the values were inserted correctly in the columns\n",
    "select * from candidate_master\n",
    "limit 2;"
   ]
  },
  {
   "cell_type": "markdown",
   "id": "90f004a9-36c0-4e83-adfe-14fc94bda1fb",
   "metadata": {},
   "source": [
    "## Dropping cand_name"
   ]
  },
  {
   "cell_type": "code",
   "execution_count": 62,
   "id": "61915f4e-9cdd-44f0-bb6e-b1570637bc08",
   "metadata": {},
   "outputs": [
    {
     "data": {
      "text/html": [
       "<span style=\"None\">Running query in &#x27;postgresql://student@/edassignment3&#x27;</span>"
      ],
      "text/plain": [
       "Running query in 'postgresql://student@/edassignment3'"
      ]
     },
     "metadata": {},
     "output_type": "display_data"
    },
    {
     "data": {
      "text/html": [
       "<table>\n",
       "    <thead>\n",
       "        <tr>\n",
       "        </tr>\n",
       "    </thead>\n",
       "    <tbody>\n",
       "    </tbody>\n",
       "</table>"
      ],
      "text/plain": [
       "++\n",
       "||\n",
       "++\n",
       "++"
      ]
     },
     "execution_count": 62,
     "metadata": {},
     "output_type": "execute_result"
    }
   ],
   "source": [
    "%%sql \n",
    "alter table candidate_master -- altering table to drop cand_name\n",
    "drop column cand_name -- drops the column cand_name from candidate_master"
   ]
  },
  {
   "cell_type": "code",
   "execution_count": 63,
   "id": "625d8bd6-3cfd-484a-bffa-a25db9ca9481",
   "metadata": {},
   "outputs": [
    {
     "data": {
      "text/html": [
       "<span style=\"None\">Running query in &#x27;postgresql://student@/edassignment3&#x27;</span>"
      ],
      "text/plain": [
       "Running query in 'postgresql://student@/edassignment3'"
      ]
     },
     "metadata": {},
     "output_type": "display_data"
    },
    {
     "data": {
      "text/html": [
       "<span style=\"color: green\">2 rows affected.</span>"
      ],
      "text/plain": [
       "2 rows affected."
      ]
     },
     "metadata": {},
     "output_type": "display_data"
    },
    {
     "data": {
      "text/html": [
       "<table>\n",
       "    <thead>\n",
       "        <tr>\n",
       "            <th>cand_id</th>\n",
       "            <th>cand_pty_affiliation</th>\n",
       "            <th>cand_election_yr</th>\n",
       "            <th>cand_office_st</th>\n",
       "            <th>cand_office</th>\n",
       "            <th>cand_office_district</th>\n",
       "            <th>cand_ici</th>\n",
       "            <th>cand_status</th>\n",
       "            <th>cand_pcc</th>\n",
       "            <th>cand_st1</th>\n",
       "            <th>cand_st2</th>\n",
       "            <th>cand_city</th>\n",
       "            <th>cand_st</th>\n",
       "            <th>cand_zip</th>\n",
       "            <th>first_name</th>\n",
       "            <th>last_name</th>\n",
       "        </tr>\n",
       "    </thead>\n",
       "    <tbody>\n",
       "        <tr>\n",
       "            <td>P40008641</td>\n",
       "            <td>REP</td>\n",
       "            <td>2024</td>\n",
       "            <td>US</td>\n",
       "            <td>P</td>\n",
       "            <td>00</td>\n",
       "            <td>C</td>\n",
       "            <td>N</td>\n",
       "            <td>C00822635</td>\n",
       "            <td>*</td>\n",
       "            <td>None</td>\n",
       "            <td>*</td>\n",
       "            <td>CA</td>\n",
       "            <td>00000</td>\n",
       "            <td>JOHN</td>\n",
       "            <td>DVORAK</td>\n",
       "        </tr>\n",
       "        <tr>\n",
       "            <td>H6OH04173</td>\n",
       "            <td>DEM</td>\n",
       "            <td>2026</td>\n",
       "            <td>OH</td>\n",
       "            <td>H</td>\n",
       "            <td>04</td>\n",
       "            <td>None</td>\n",
       "            <td>N</td>\n",
       "            <td>None</td>\n",
       "            <td>273 SARATOGA ST.</td>\n",
       "            <td>None</td>\n",
       "            <td>DELAWARE</td>\n",
       "            <td>OH</td>\n",
       "            <td>43015</td>\n",
       "            <td>TAMARA</td>\n",
       "            <td>WILSON</td>\n",
       "        </tr>\n",
       "    </tbody>\n",
       "</table>"
      ],
      "text/plain": [
       "+-----------+----------------------+------------------+----------------+-------------+----------------------+----------+-------------+-----------+------------------+----------+-----------+---------+----------+------------+-----------+\n",
       "|  cand_id  | cand_pty_affiliation | cand_election_yr | cand_office_st | cand_office | cand_office_district | cand_ici | cand_status |  cand_pcc |     cand_st1     | cand_st2 | cand_city | cand_st | cand_zip | first_name | last_name |\n",
       "+-----------+----------------------+------------------+----------------+-------------+----------------------+----------+-------------+-----------+------------------+----------+-----------+---------+----------+------------+-----------+\n",
       "| P40008641 |         REP          |       2024       |       US       |      P      |          00          |    C     |      N      | C00822635 |        *         |   None   |     *     |    CA   |  00000   |    JOHN    |   DVORAK  |\n",
       "| H6OH04173 |         DEM          |       2026       |       OH       |      H      |          04          |   None   |      N      |    None   | 273 SARATOGA ST. |   None   |  DELAWARE |    OH   |  43015   |   TAMARA   |   WILSON  |\n",
       "+-----------+----------------------+------------------+----------------+-------------+----------------------+----------+-------------+-----------+------------------+----------+-----------+---------+----------+------------+-----------+"
      ]
     },
     "execution_count": 63,
     "metadata": {},
     "output_type": "execute_result"
    }
   ],
   "source": [
    "%%sql \n",
    "-- quick query to see the column cand_name is dropped\n",
    "select * from candidate_master\n",
    "limit 2"
   ]
  },
  {
   "cell_type": "markdown",
   "id": "abf27d05-6967-4af6-a416-8229df88f81f",
   "metadata": {},
   "source": [
    "# Problem 5"
   ]
  },
  {
   "cell_type": "markdown",
   "id": "0ae010e6-b85a-4407-b18b-f9d635704ba7",
   "metadata": {},
   "source": [
    "### Part 1"
   ]
  },
  {
   "cell_type": "markdown",
   "id": "ca6e5e04-ac81-4da2-8196-cc3c0cb55b72",
   "metadata": {},
   "source": [
    "Taking specified columns and getting all candidates that were active in 2024 and above that office was specified as dc"
   ]
  },
  {
   "cell_type": "code",
   "execution_count": 64,
   "id": "e9de4852-7030-4cdd-8743-0bcb934ae705",
   "metadata": {},
   "outputs": [
    {
     "data": {
      "text/html": [
       "<span style=\"None\">Running query in &#x27;postgresql://student@/edassignment3&#x27;</span>"
      ],
      "text/plain": [
       "Running query in 'postgresql://student@/edassignment3'"
      ]
     },
     "metadata": {},
     "output_type": "display_data"
    },
    {
     "data": {
      "text/html": [
       "<span style=\"color: green\">9 rows affected.</span>"
      ],
      "text/plain": [
       "9 rows affected."
      ]
     },
     "metadata": {},
     "output_type": "display_data"
    },
    {
     "data": {
      "text/html": [
       "<table>\n",
       "    <thead>\n",
       "        <tr>\n",
       "            <th>first_name</th>\n",
       "            <th>last_name</th>\n",
       "            <th>cand_pty_affiliation</th>\n",
       "            <th>cand_status</th>\n",
       "            <th>cand_pcc</th>\n",
       "            <th>cand_election_yr</th>\n",
       "            <th>cand_office_st</th>\n",
       "        </tr>\n",
       "    </thead>\n",
       "    <tbody>\n",
       "        <tr>\n",
       "            <td>ELEANOR HOLMES</td>\n",
       "            <td>NORTON</td>\n",
       "            <td>DEM</td>\n",
       "            <td>C</td>\n",
       "            <td>C00244335</td>\n",
       "            <td>2026</td>\n",
       "            <td>DC</td>\n",
       "        </tr>\n",
       "        <tr>\n",
       "            <td>KELLY</td>\n",
       "            <td>WILLIAMS</td>\n",
       "            <td>DEM</td>\n",
       "            <td>P</td>\n",
       "            <td>C00853739</td>\n",
       "            <td>2024</td>\n",
       "            <td>DC</td>\n",
       "        </tr>\n",
       "        <tr>\n",
       "            <td>KYMONE</td>\n",
       "            <td>FREEMAN</td>\n",
       "            <td>OTH</td>\n",
       "            <td>N</td>\n",
       "            <td>C00866863</td>\n",
       "            <td>2024</td>\n",
       "            <td>DC</td>\n",
       "        </tr>\n",
       "        <tr>\n",
       "            <td>HELCHIC KOTON</td>\n",
       "            <td>WATTS</td>\n",
       "            <td>OTH</td>\n",
       "            <td>N</td>\n",
       "            <td>C00884866</td>\n",
       "            <td>2024</td>\n",
       "            <td>DC</td>\n",
       "        </tr>\n",
       "        <tr>\n",
       "            <td>MYRTLE PATRICIA DR.</td>\n",
       "            <td>ALEXANDER</td>\n",
       "            <td>REP</td>\n",
       "            <td>N</td>\n",
       "            <td>C00865212</td>\n",
       "            <td>2024</td>\n",
       "            <td>DC</td>\n",
       "        </tr>\n",
       "        <tr>\n",
       "            <td>MICHAEL</td>\n",
       "            <td>A BROWN</td>\n",
       "            <td>IND</td>\n",
       "            <td>P</td>\n",
       "            <td>C00866632</td>\n",
       "            <td>2024</td>\n",
       "            <td>DC</td>\n",
       "        </tr>\n",
       "        <tr>\n",
       "            <td>KELLY MIKEL MIKEL MR</td>\n",
       "            <td>WILLIAMS</td>\n",
       "            <td>DEM</td>\n",
       "            <td>P</td>\n",
       "            <td>C00853739</td>\n",
       "            <td>2024</td>\n",
       "            <td>DC</td>\n",
       "        </tr>\n",
       "        <tr>\n",
       "            <td>ANGEL ANTHONY MR.</td>\n",
       "            <td>RIOS</td>\n",
       "            <td>DEM</td>\n",
       "            <td>N</td>\n",
       "            <td>C00891762</td>\n",
       "            <td>2026</td>\n",
       "            <td>DC</td>\n",
       "        </tr>\n",
       "        <tr>\n",
       "            <td>BRANDAUN LEFRED MAYOR</td>\n",
       "            <td>DEAN</td>\n",
       "            <td>DEM</td>\n",
       "            <td>N</td>\n",
       "            <td>C00835355</td>\n",
       "            <td>2024</td>\n",
       "            <td>DC</td>\n",
       "        </tr>\n",
       "    </tbody>\n",
       "</table>"
      ],
      "text/plain": [
       "+-----------------------+-----------+----------------------+-------------+-----------+------------------+----------------+\n",
       "|       first_name      | last_name | cand_pty_affiliation | cand_status |  cand_pcc | cand_election_yr | cand_office_st |\n",
       "+-----------------------+-----------+----------------------+-------------+-----------+------------------+----------------+\n",
       "|     ELEANOR HOLMES    |   NORTON  |         DEM          |      C      | C00244335 |       2026       |       DC       |\n",
       "|         KELLY         |  WILLIAMS |         DEM          |      P      | C00853739 |       2024       |       DC       |\n",
       "|         KYMONE        |  FREEMAN  |         OTH          |      N      | C00866863 |       2024       |       DC       |\n",
       "|     HELCHIC KOTON     |   WATTS   |         OTH          |      N      | C00884866 |       2024       |       DC       |\n",
       "|  MYRTLE PATRICIA DR.  | ALEXANDER |         REP          |      N      | C00865212 |       2024       |       DC       |\n",
       "|        MICHAEL        |  A BROWN  |         IND          |      P      | C00866632 |       2024       |       DC       |\n",
       "|  KELLY MIKEL MIKEL MR |  WILLIAMS |         DEM          |      P      | C00853739 |       2024       |       DC       |\n",
       "|   ANGEL ANTHONY MR.   |    RIOS   |         DEM          |      N      | C00891762 |       2026       |       DC       |\n",
       "| BRANDAUN LEFRED MAYOR |    DEAN   |         DEM          |      N      | C00835355 |       2024       |       DC       |\n",
       "+-----------------------+-----------+----------------------+-------------+-----------+------------------+----------------+"
      ]
     },
     "execution_count": 64,
     "metadata": {},
     "output_type": "execute_result"
    }
   ],
   "source": [
    "%%sql\n",
    "select first_name, last_name, cand_pty_affiliation, cand_status, cand_pcc, cand_election_yr, cand_office_st --getting the specified columns \n",
    "FROM candidate_master \n",
    "where cand_election_yr >= 2024 AND cand_office_st = 'DC' -- getting all the candidates by first and last name that were active from 2024 and above and their office was in DC\n"
   ]
  },
  {
   "cell_type": "markdown",
   "id": "ebda7ba7-d8fe-4683-afb3-5adc990cbcd7",
   "metadata": {},
   "source": [
    "### Part 2"
   ]
  },
  {
   "cell_type": "markdown",
   "id": "c69d2fb5-9412-4809-b3b0-c9800ae68dc3",
   "metadata": {},
   "source": [
    "Selecting the candidate count associated with the the committee by joining commitee_master and candidate_commitee_linkage on cmte_id since candidate_commitee_linkage doesnt have all the columns we need"
   ]
  },
  {
   "cell_type": "code",
   "execution_count": 65,
   "id": "cce794ee-8cf0-47df-9a2a-d3974d0db5f1",
   "metadata": {},
   "outputs": [
    {
     "data": {
      "text/html": [
       "<span style=\"None\">Running query in &#x27;postgresql://student@/edassignment3&#x27;</span>"
      ],
      "text/plain": [
       "Running query in 'postgresql://student@/edassignment3'"
      ]
     },
     "metadata": {},
     "output_type": "display_data"
    },
    {
     "data": {
      "text/html": [
       "<span style=\"color: green\">10 rows affected.</span>"
      ],
      "text/plain": [
       "10 rows affected."
      ]
     },
     "metadata": {},
     "output_type": "display_data"
    },
    {
     "data": {
      "text/html": [
       "<table>\n",
       "    <thead>\n",
       "        <tr>\n",
       "            <th>cmte_nm</th>\n",
       "            <th>cmte_tp</th>\n",
       "            <th>cmte_pty_affiliation</th>\n",
       "            <th>candidate_count</th>\n",
       "        </tr>\n",
       "    </thead>\n",
       "    <tbody>\n",
       "        <tr>\n",
       "            <td>FRESHMAN AGRICULTURAL REPUBLICAN MEMBERS TRUST AKA FARM TRUST</td>\n",
       "            <td>N</td>\n",
       "            <td>None</td>\n",
       "            <td>16</td>\n",
       "        </tr>\n",
       "        <tr>\n",
       "            <td>BERMAN4CONGRESS2MAKE AMERICA GEEKY AGAIN</td>\n",
       "            <td>S</td>\n",
       "            <td>REP</td>\n",
       "            <td>8</td>\n",
       "        </tr>\n",
       "        <tr>\n",
       "            <td>PERIDOT OPERATIONS INC- ULOMA EKPETE</td>\n",
       "            <td>H</td>\n",
       "            <td>REP</td>\n",
       "            <td>8</td>\n",
       "        </tr>\n",
       "        <tr>\n",
       "            <td>PATRIOT PAC</td>\n",
       "            <td>Q</td>\n",
       "            <td>None</td>\n",
       "            <td>6</td>\n",
       "        </tr>\n",
       "        <tr>\n",
       "            <td>ALIX CHRISTOPHER TOULME JR. FOR PRESIDENT 2024</td>\n",
       "            <td>P</td>\n",
       "            <td>OTH</td>\n",
       "            <td>4</td>\n",
       "        </tr>\n",
       "        <tr>\n",
       "            <td>ANGIE WINDHAUSER FOR US CONGRESS D1</td>\n",
       "            <td>H</td>\n",
       "            <td>REP</td>\n",
       "            <td>4</td>\n",
       "        </tr>\n",
       "        <tr>\n",
       "            <td>AIDAN FOR CONGRESS</td>\n",
       "            <td>H</td>\n",
       "            <td>REP</td>\n",
       "            <td>4</td>\n",
       "        </tr>\n",
       "        <tr>\n",
       "            <td>DON HEWETT FOR CONGRESS WA10</td>\n",
       "            <td>H</td>\n",
       "            <td>REP</td>\n",
       "            <td>3</td>\n",
       "        </tr>\n",
       "        <tr>\n",
       "            <td>LIZ MATORY FOR CONGRESS</td>\n",
       "            <td>H</td>\n",
       "            <td>REP</td>\n",
       "            <td>3</td>\n",
       "        </tr>\n",
       "        <tr>\n",
       "            <td>FRIENDS OF WOLFMAN</td>\n",
       "            <td>P</td>\n",
       "            <td>IND</td>\n",
       "            <td>3</td>\n",
       "        </tr>\n",
       "    </tbody>\n",
       "</table>\n",
       "<span style=\"font-style:italic;text-align:center;\">Truncated to <a href=\"https://jupysql.ploomber.io/en/latest/api/configuration.html#displaylimit\">displaylimit</a> of 10.</span>"
      ],
      "text/plain": [
       "+---------------------------------------------------------------+---------+----------------------+-----------------+\n",
       "|                            cmte_nm                            | cmte_tp | cmte_pty_affiliation | candidate_count |\n",
       "+---------------------------------------------------------------+---------+----------------------+-----------------+\n",
       "| FRESHMAN AGRICULTURAL REPUBLICAN MEMBERS TRUST AKA FARM TRUST |    N    |         None         |        16       |\n",
       "|            BERMAN4CONGRESS2MAKE AMERICA GEEKY AGAIN           |    S    |         REP          |        8        |\n",
       "|              PERIDOT OPERATIONS INC- ULOMA EKPETE             |    H    |         REP          |        8        |\n",
       "|                          PATRIOT PAC                          |    Q    |         None         |        6        |\n",
       "|         ALIX CHRISTOPHER TOULME JR. FOR PRESIDENT 2024        |    P    |         OTH          |        4        |\n",
       "|              ANGIE WINDHAUSER FOR US CONGRESS D1              |    H    |         REP          |        4        |\n",
       "|                       AIDAN FOR CONGRESS                      |    H    |         REP          |        4        |\n",
       "|                  DON HEWETT FOR CONGRESS WA10                 |    H    |         REP          |        3        |\n",
       "|                    LIZ MATORY FOR CONGRESS                    |    H    |         REP          |        3        |\n",
       "|                       FRIENDS OF WOLFMAN                      |    P    |         IND          |        3        |\n",
       "+---------------------------------------------------------------+---------+----------------------+-----------------+\n",
       "Truncated to displaylimit of 10."
      ]
     },
     "execution_count": 65,
     "metadata": {},
     "output_type": "execute_result"
    }
   ],
   "source": [
    "%%sql\n",
    "SELECT --- selecting commitee name, commitee type, committie affiliation, and the candidate count to sort by candidate count\n",
    "  commitee_master.cmte_nm, --specifing what table the column is coming from\n",
    "  commitee_master.cmte_tp,\n",
    "  commitee_master.cmte_pty_affiliation,\n",
    "  top.candidate_count\n",
    "FROM (  --- query from candidate_commitee_linkage takes all commitees and orders them by how many candidates are associated with them\n",
    "  SELECT cmte_id, COUNT(DISTINCT cand_id) AS candidate_count --getting the unique count of candidates that are associated with that commitee\n",
    "  FROM candidate_commitee_linkage --getting the count of candidates from candidate commitee linkage as committee_master wouldnt have this information\n",
    "  GROUP BY cmte_id\n",
    "  ORDER BY candidate_count DESC\n",
    "  LIMIT 10 --- the top ten commitees\n",
    ") top\n",
    "JOIN commitee_master --- we are joining the query from candidate_commitee_linkage named top to commitee_master because they have those columns on cmte_id because that is the primary/foreign key\n",
    "  ON top.cmte_id = commitee_master.cmte_id;"
   ]
  },
  {
   "cell_type": "markdown",
   "id": "884a4bb6-38a5-4064-9883-80b1e29d2e2d",
   "metadata": {},
   "source": [
    "### Part 3"
   ]
  },
  {
   "cell_type": "markdown",
   "id": "e98d206c-2190-4887-911a-4dddc6df62ab",
   "metadata": {},
   "source": [
    "Getting the top ten individual contribution by contributions by individuals and sorting by greatest to least. Will need to join commitee_master to the query invcount that came from contributions_by_individuals as not all columns specified in the problem are found in contributions_by_individuals but in commitee_master"
   ]
  },
  {
   "cell_type": "code",
   "execution_count": 66,
   "id": "7ada6d95-de5e-45dd-b279-d2de7909c864",
   "metadata": {},
   "outputs": [
    {
     "data": {
      "text/html": [
       "<span style=\"None\">Running query in &#x27;postgresql://student@/edassignment3&#x27;</span>"
      ],
      "text/plain": [
       "Running query in 'postgresql://student@/edassignment3'"
      ]
     },
     "metadata": {},
     "output_type": "display_data"
    },
    {
     "data": {
      "text/html": [
       "<span style=\"color: green\">10 rows affected.</span>"
      ],
      "text/plain": [
       "10 rows affected."
      ]
     },
     "metadata": {},
     "output_type": "display_data"
    },
    {
     "data": {
      "text/html": [
       "<table>\n",
       "    <thead>\n",
       "        <tr>\n",
       "            <th>cmte_nm</th>\n",
       "            <th>cmte_tp</th>\n",
       "            <th>cmte_pty_affiliation</th>\n",
       "            <th>individual_contribution</th>\n",
       "        </tr>\n",
       "    </thead>\n",
       "    <tbody>\n",
       "        <tr>\n",
       "            <td>REPUBLICAN NATIONAL COMMITTEE</td>\n",
       "            <td>Y</td>\n",
       "            <td>REP</td>\n",
       "            <td>10857014.00</td>\n",
       "        </tr>\n",
       "        <tr>\n",
       "            <td>NRSC</td>\n",
       "            <td>Y</td>\n",
       "            <td>REP</td>\n",
       "            <td>8061692.00</td>\n",
       "        </tr>\n",
       "        <tr>\n",
       "            <td>DCCC</td>\n",
       "            <td>Y</td>\n",
       "            <td>DEM</td>\n",
       "            <td>5154087.00</td>\n",
       "        </tr>\n",
       "        <tr>\n",
       "            <td>DNC SERVICES CORP / DEMOCRATIC NATIONAL COMMITTEE</td>\n",
       "            <td>Y</td>\n",
       "            <td>DEM</td>\n",
       "            <td>4167271.00</td>\n",
       "        </tr>\n",
       "        <tr>\n",
       "            <td>NRCC</td>\n",
       "            <td>Y</td>\n",
       "            <td>REP</td>\n",
       "            <td>3708240.00</td>\n",
       "        </tr>\n",
       "        <tr>\n",
       "            <td>DSCC</td>\n",
       "            <td>Y</td>\n",
       "            <td>DEM</td>\n",
       "            <td>3580128.00</td>\n",
       "        </tr>\n",
       "        <tr>\n",
       "            <td>AMERICAN ISRAEL PUBLIC AFFAIRS COMMITTEE POLITICAL ACTION COMMITTEE</td>\n",
       "            <td>Q</td>\n",
       "            <td>None</td>\n",
       "            <td>2188444.00</td>\n",
       "        </tr>\n",
       "        <tr>\n",
       "            <td>JOSH WEIL FOR CONGRESS</td>\n",
       "            <td>H</td>\n",
       "            <td>DEM</td>\n",
       "            <td>1934210.00</td>\n",
       "        </tr>\n",
       "        <tr>\n",
       "            <td>FRIENDS OF JIMMY PATRONIS, INC.</td>\n",
       "            <td>H</td>\n",
       "            <td>REP</td>\n",
       "            <td>1670532.00</td>\n",
       "        </tr>\n",
       "        <tr>\n",
       "            <td>DEMOCRATIC PARTY OF WISCONSIN FEDERAL</td>\n",
       "            <td>Y</td>\n",
       "            <td>DEM</td>\n",
       "            <td>1491835.00</td>\n",
       "        </tr>\n",
       "    </tbody>\n",
       "</table>\n",
       "<span style=\"font-style:italic;text-align:center;\">Truncated to <a href=\"https://jupysql.ploomber.io/en/latest/api/configuration.html#displaylimit\">displaylimit</a> of 10.</span>"
      ],
      "text/plain": [
       "+---------------------------------------------------------------------+---------+----------------------+-------------------------+\n",
       "|                               cmte_nm                               | cmte_tp | cmte_pty_affiliation | individual_contribution |\n",
       "+---------------------------------------------------------------------+---------+----------------------+-------------------------+\n",
       "|                    REPUBLICAN NATIONAL COMMITTEE                    |    Y    |         REP          |       10857014.00       |\n",
       "|                                 NRSC                                |    Y    |         REP          |        8061692.00       |\n",
       "|                                 DCCC                                |    Y    |         DEM          |        5154087.00       |\n",
       "|          DNC SERVICES CORP / DEMOCRATIC NATIONAL COMMITTEE          |    Y    |         DEM          |        4167271.00       |\n",
       "|                                 NRCC                                |    Y    |         REP          |        3708240.00       |\n",
       "|                                 DSCC                                |    Y    |         DEM          |        3580128.00       |\n",
       "| AMERICAN ISRAEL PUBLIC AFFAIRS COMMITTEE POLITICAL ACTION COMMITTEE |    Q    |         None         |        2188444.00       |\n",
       "|                        JOSH WEIL FOR CONGRESS                       |    H    |         DEM          |        1934210.00       |\n",
       "|                   FRIENDS OF JIMMY PATRONIS, INC.                   |    H    |         REP          |        1670532.00       |\n",
       "|                DEMOCRATIC PARTY OF WISCONSIN FEDERAL                |    Y    |         DEM          |        1491835.00       |\n",
       "+---------------------------------------------------------------------+---------+----------------------+-------------------------+\n",
       "Truncated to displaylimit of 10."
      ]
     },
     "execution_count": 66,
     "metadata": {},
     "output_type": "execute_result"
    }
   ],
   "source": [
    "%%sql\n",
    "SELECT  ---- selecting commitee name, committee type , committee affiliation, and the indiviudal contribution sorting from biggest to smallest\n",
    "\tcommitee_master.cmte_nm,\n",
    "\tcommitee_master.cmte_tp,\n",
    "\tcommitee_master.cmte_pty_affiliation,\n",
    "\tinvcount.individual_contribution\n",
    "FROM (   --- query from contributions by individuals to get individual contributions\n",
    "\tselect sum(transaction_amt) as individual_contribution, cmte_id -- we are getting the sum of individual contribution that came from that specific commitee\n",
    "\tfrom contributions_by_individuals\n",
    "\tgroup by cmte_id\n",
    "\torder by individual_contribution desc --ordering from greatest to least\n",
    "\t limit 10)invcount  --getting the top ten individual contributions \n",
    "JOIN commitee_master --since contributions by individuals doesnt have the commitee name, commitee type, or affiliation we will join commitee_master to the query invcount that came from individual contributions on the cmte_id because it is the primary/foreign key\n",
    "ON invcount.cmte_id = commitee_master.cmte_id"
   ]
  },
  {
   "cell_type": "markdown",
   "id": "d601faa8-ca34-461e-acfa-dc1d4150e60e",
   "metadata": {},
   "source": [
    "### Part 4"
   ]
  },
  {
   "cell_type": "markdown",
   "id": "a68355be-30db-4def-a779-7c76f668fcae",
   "metadata": {},
   "source": [
    "Will need to add a case to add up 'employed' and 'non employed' variants so the outcome can be accurate. To get the total contributions we will need to use a sum function on transaction_amt to get the total contributions by those distinct_committees. The distinct committess are found by using count and distinct to specify the unique and total distinct committees"
   ]
  },
  {
   "cell_type": "code",
   "execution_count": 67,
   "id": "6d6da2aa-9fdb-45fb-8ecd-0fe0ef151afd",
   "metadata": {},
   "outputs": [
    {
     "data": {
      "text/html": [
       "<span style=\"None\">Running query in &#x27;postgresql://student@/edassignment3&#x27;</span>"
      ],
      "text/plain": [
       "Running query in 'postgresql://student@/edassignment3'"
      ]
     },
     "metadata": {},
     "output_type": "display_data"
    },
    {
     "data": {
      "text/html": [
       "<span style=\"color: green\">10 rows affected.</span>"
      ],
      "text/plain": [
       "10 rows affected."
      ]
     },
     "metadata": {},
     "output_type": "display_data"
    },
    {
     "data": {
      "text/html": [
       "<table>\n",
       "    <thead>\n",
       "        <tr>\n",
       "            <th>cleaned_employers</th>\n",
       "            <th>total_contributions</th>\n",
       "            <th>distinct_committees</th>\n",
       "        </tr>\n",
       "    </thead>\n",
       "    <tbody>\n",
       "        <tr>\n",
       "            <td>NOT EMPLOYED</td>\n",
       "            <td>14853699.00</td>\n",
       "            <td>204</td>\n",
       "        </tr>\n",
       "        <tr>\n",
       "            <td>RETIRED</td>\n",
       "            <td>9091324.00</td>\n",
       "            <td>213</td>\n",
       "        </tr>\n",
       "        <tr>\n",
       "            <td>SELF EMPLOYED</td>\n",
       "            <td>6277454.00</td>\n",
       "            <td>275</td>\n",
       "        </tr>\n",
       "        <tr>\n",
       "            <td>WINKLEVOSS CAPITAL</td>\n",
       "            <td>815913.00</td>\n",
       "            <td>1</td>\n",
       "        </tr>\n",
       "        <tr>\n",
       "            <td>STEPHENS INC.</td>\n",
       "            <td>708800.00</td>\n",
       "            <td>2</td>\n",
       "        </tr>\n",
       "        <tr>\n",
       "            <td>MOUNTAIRE CORPORATION</td>\n",
       "            <td>631200.00</td>\n",
       "            <td>3</td>\n",
       "        </tr>\n",
       "        <tr>\n",
       "            <td>ELLIOTT MANAGEMENT CORPORATION</td>\n",
       "            <td>578200.00</td>\n",
       "            <td>2</td>\n",
       "        </tr>\n",
       "        <tr>\n",
       "            <td>MINOGUE CONSULTING</td>\n",
       "            <td>453000.00</td>\n",
       "            <td>2</td>\n",
       "        </tr>\n",
       "        <tr>\n",
       "            <td>BRODIE GENERATIONAL CAPITAL PARTNERS</td>\n",
       "            <td>443000.00</td>\n",
       "            <td>1</td>\n",
       "        </tr>\n",
       "        <tr>\n",
       "            <td>BOOK CAPITAL ENTERPRISES LLC</td>\n",
       "            <td>443000.00</td>\n",
       "            <td>1</td>\n",
       "        </tr>\n",
       "    </tbody>\n",
       "</table>\n",
       "<span style=\"font-style:italic;text-align:center;\">Truncated to <a href=\"https://jupysql.ploomber.io/en/latest/api/configuration.html#displaylimit\">displaylimit</a> of 10.</span>"
      ],
      "text/plain": [
       "+--------------------------------------+---------------------+---------------------+\n",
       "|          cleaned_employers           | total_contributions | distinct_committees |\n",
       "+--------------------------------------+---------------------+---------------------+\n",
       "|             NOT EMPLOYED             |     14853699.00     |         204         |\n",
       "|               RETIRED                |      9091324.00     |         213         |\n",
       "|            SELF EMPLOYED             |      6277454.00     |         275         |\n",
       "|          WINKLEVOSS CAPITAL          |      815913.00      |          1          |\n",
       "|            STEPHENS INC.             |      708800.00      |          2          |\n",
       "|        MOUNTAIRE CORPORATION         |      631200.00      |          3          |\n",
       "|    ELLIOTT MANAGEMENT CORPORATION    |      578200.00      |          2          |\n",
       "|          MINOGUE CONSULTING          |      453000.00      |          2          |\n",
       "| BRODIE GENERATIONAL CAPITAL PARTNERS |      443000.00      |          1          |\n",
       "|     BOOK CAPITAL ENTERPRISES LLC     |      443000.00      |          1          |\n",
       "+--------------------------------------+---------------------+---------------------+\n",
       "Truncated to displaylimit of 10."
      ]
     },
     "execution_count": 67,
     "metadata": {},
     "output_type": "execute_result"
    }
   ],
   "source": [
    "%%sql\n",
    "SELECT  \n",
    "\tCASE  -- applying a case because we want combine similiar employers with them selves to get a more accurate reading of the output\n",
    "\tWHEN UPPER(employer) in ('NOT EMPLOYED', 'N/A', 'NONE','NOT-EMPLOYED') THEN 'NOT EMPLOYED'  -- not employed variants were used so we are combining as many of them found in the data\n",
    "\tWHEN UPPER(employer) in ('SELF EMPLOYED', 'SELF', 'SELF-EMPLOYED', 'SELF- EMPLOYED') THEN 'SELF EMPLOYED'-- employed had many variants so we are adding them together like not employed\n",
    "\tELSE employer -- after going through employed and not employed variants if it doesnt hit one of those conditions it will return whatever employer it is \n",
    "\tEND AS cleaned_employers,\n",
    "\tSUM(transaction_amt) as total_contributions,  --getting the total contributions that came from that specific employer from the distinct committees\n",
    "\tCOUNT(DISTINCT(cmte_id)) as distinct_committees-- getting the count of specific commitees that got contributions from that employer\n",
    "from contributions_by_individuals\n",
    "WHERE employer is not null--- want to exclude null employers\n",
    "group by cleaned_employers\n",
    "order by total_contributions desc\n",
    "limit 10; -- top 10 "
   ]
  }
 ],
 "metadata": {
  "kernelspec": {
   "display_name": "Python 3 (ipykernel)",
   "language": "python",
   "name": "python3"
  },
  "language_info": {
   "codemirror_mode": {
    "name": "ipython",
    "version": 3
   },
   "file_extension": ".py",
   "mimetype": "text/x-python",
   "name": "python",
   "nbconvert_exporter": "python",
   "pygments_lexer": "ipython3",
   "version": "3.12.3"
  }
 },
 "nbformat": 4,
 "nbformat_minor": 5
}
